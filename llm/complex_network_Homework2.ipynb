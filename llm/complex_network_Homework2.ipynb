{
 "cells": [
  {
   "cell_type": "code",
   "id": "initial_id",
   "metadata": {
    "collapsed": true
   },
   "source": "!pip list",
   "outputs": [],
   "execution_count": null
  },
  {
   "metadata": {},
   "cell_type": "code",
   "source": [
    "import pandas as pd\n",
    "import networkx as nx"
   ],
   "id": "deed7ecf849cbc03",
   "outputs": [],
   "execution_count": null
  },
  {
   "metadata": {},
   "cell_type": "code",
   "source": [
    "# File path to your uploaded file\n",
    "file_path = 'data/as-caida20071105.txt'\n",
    "\n",
    "# Read the file, skipping comment lines that start with '#'\n",
    "df = pd.read_csv(file_path, sep='\\t', comment='#', header=None, names=['FromNodeId', 'ToNodeId', 'Relationship'])\n",
    "\n",
    "# Display the first few rows\n",
    "df.head()"
   ],
   "id": "2be13d4146a9cc09",
   "outputs": [],
   "execution_count": null
  },
  {
   "metadata": {},
   "cell_type": "code",
   "source": [
    "start_node = list(df['FromNodeId'])\n",
    "end_node = list(df['ToNodeId'])\n",
    "values = list(df['Relationship'])\n",
    "\n",
    "nodes = start_node + end_node\n",
    "print(len(nodes))\n",
    "nodes = list(set(nodes))\n",
    "print(len(nodes))"
   ],
   "id": "9919601472601c83",
   "outputs": [],
   "execution_count": null
  },
  {
   "metadata": {},
   "cell_type": "code",
   "source": [
    "edges = tuple(zip(start_node, end_node, values))\n",
    "print(type(edges))\n",
    "for idx, i in enumerate(edges):\n",
    "    if idx > 5:\n",
    "        break\n",
    "    print(i)\n",
    "print(len(edges))\n",
    "# test same edge\n",
    "edges = set(edges)\n",
    "print(len(edges))"
   ],
   "id": "c96fae46aa110fbd",
   "outputs": [],
   "execution_count": null
  },
  {
   "metadata": {},
   "cell_type": "code",
   "source": [
    "WG = nx.DiGraph()\n",
    "WG.add_nodes_from(nodes)\n",
    "WG.add_weighted_edges_from(list(edges))\n",
    "w = [WG[e[0]][e[1]]['weight'] for e in WG.edges()]"
   ],
   "id": "bc8c87bbf6f0dd76",
   "outputs": [],
   "execution_count": null
  },
  {
   "metadata": {},
   "cell_type": "code",
   "source": "# nx.draw(WG, node_size=50, with_labels=False)",
   "id": "ef39abe4a5fd1db6",
   "outputs": [],
   "execution_count": null
  },
  {
   "metadata": {},
   "cell_type": "code",
   "source": [
    "num_nodes = WG.number_of_nodes()\n",
    "num_edges = WG.number_of_edges()\n",
    "print(\"节点数量:\", num_nodes)\n",
    "print(\"边数量:\", num_edges)"
   ],
   "id": "5a21c505a477dba9",
   "outputs": [],
   "execution_count": null
  },
  {
   "metadata": {},
   "cell_type": "code",
   "source": [
    "if nx.is_strongly_connected(WG):\n",
    "    diameter = nx.diameter(WG)\n",
    "    print(\"图的直径:\", diameter)\n",
    "else:\n",
    "    print(\"图不是强连通的，因此没有直径。\")"
   ],
   "id": "e9901b5ed9d84560",
   "outputs": [],
   "execution_count": null
  },
  {
   "metadata": {},
   "cell_type": "code",
   "source": [
    "import matplotlib.pyplot as plt\n",
    "# 计算入度和出度\n",
    "in_degrees = [d for n, d in WG.in_degree() if d > 0]  # 排除入度为0的节点\n",
    "out_degrees = [d for n, d in WG.out_degree() if d > 0]  # 排除出度为0的节点\n",
    "\n",
    "# 绘制入度分布的直方图\n",
    "plt.figure(figsize=(10, 5))\n",
    "\n",
    "plt.subplot(1, 2, 1)\n",
    "plt.hist(in_degrees, bins=50, color='blue', alpha=0.7, rwidth=0.8)  # rwidth < 1 加入间隙\n",
    "plt.xlim(0, 2000)  # 限制横坐标范围为 0-500\n",
    "plt.yscale('log')  # 对Y轴使用对数\n",
    "plt.title(\"In Degree Distribution\")\n",
    "plt.xlabel(\"In Degree\")\n",
    "plt.ylabel(\"Frequence\")\n",
    "\n",
    "# 绘制出度分布的直方图\n",
    "plt.subplot(1, 2, 2)\n",
    "plt.hist(out_degrees, bins=50, color='green', alpha=0.7, rwidth=0.8)  # rwidth < 1 加入间隙\n",
    "plt.xlim(0, 2000)  # 限制横坐标范围为 0-500\n",
    "plt.yscale('log')  # 对Y轴使用对数\n",
    "plt.title(\"Out Degree Distribution\")\n",
    "plt.xlabel(\"Out Degree\")\n",
    "plt.ylabel(\"Frequence\")\n",
    "\n",
    "plt.tight_layout()\n",
    "plt.show()"
   ],
   "id": "321400f75bcc2723",
   "outputs": [],
   "execution_count": null
  },
  {
   "metadata": {},
   "cell_type": "code",
   "source": [
    "WCC = max(nx.weakly_connected_components(WG), key=len)\n",
    "WCC_subgraph = WG.subgraph(WCC)\n",
    "print(\"最大WCC节点数:\", WCC_subgraph.number_of_nodes())\n",
    "print(\"最大WCC边数:\", WCC_subgraph.number_of_edges())"
   ],
   "id": "2f558399b48da03b",
   "outputs": [],
   "execution_count": null
  },
  {
   "metadata": {},
   "cell_type": "code",
   "source": [
    "SCC = max(nx.strongly_connected_components(WG), key=len)\n",
    "SCC_subgraph = WG.subgraph(SCC)\n",
    "print(\"最大SCC节点数:\", SCC_subgraph.number_of_nodes())\n",
    "print(\"最大SCC边数:\", SCC_subgraph.number_of_edges())"
   ],
   "id": "3d17bf43e4f88fc8",
   "outputs": [],
   "execution_count": null
  },
  {
   "metadata": {},
   "cell_type": "code",
   "source": [
    "avg_clustering_coefficient = nx.average_clustering(WG.to_undirected())\n",
    "print(\"平均聚类系数:\", avg_clustering_coefficient)"
   ],
   "id": "4b48213780a526df",
   "outputs": [],
   "execution_count": null
  },
  {
   "metadata": {},
   "cell_type": "code",
   "source": [
    "import networkx.algorithms.community as community\n",
    "\n",
    "# 使用Girvan-Newman算法来挖掘社区结构\n",
    "communities = community.girvan_newman(WG)\n",
    "top_level_communities = next(communities)\n",
    "sorted_communities = sorted(map(sorted, top_level_communities))\n",
    "print(\"社区结构:\", sorted_communities)"
   ],
   "id": "804df47b34071d41",
   "outputs": [],
   "execution_count": null
  },
  {
   "metadata": {},
   "cell_type": "code",
   "source": "!pip install python-igraph",
   "id": "88258815705f63da",
   "outputs": [],
   "execution_count": null
  },
  {
   "metadata": {},
   "cell_type": "code",
   "source": [
    "import igraph as ig\n",
    "G_undirected = WG.to_undirected()\n",
    "g = ig.Graph.TupleList(G_undirected.edges(), directed=False)\n",
    "\n",
    "# 使用Louvain算法检测社区\n",
    "louvain_communities = g.community_multilevel()\n",
    "\n",
    "# 绘制社区结构\n",
    "layout = g.layout(\"fr\")\n",
    "ig.plot(louvain_communities, layout=layout, vertex_size=5, bbox=(600, 600), margin=20)"
   ],
   "id": "b7ffc2b1c4eab0ad",
   "outputs": [],
   "execution_count": null
  },
  {
   "metadata": {},
   "cell_type": "code",
   "source": "",
   "id": "dee0682d196753d0",
   "outputs": [],
   "execution_count": null
  }
 ],
 "metadata": {
  "kernelspec": {
   "display_name": "Python 3",
   "language": "python",
   "name": "python3"
  },
  "language_info": {
   "codemirror_mode": {
    "name": "ipython",
    "version": 2
   },
   "file_extension": ".py",
   "mimetype": "text/x-python",
   "name": "python",
   "nbconvert_exporter": "python",
   "pygments_lexer": "ipython2",
   "version": "2.7.6"
  }
 },
 "nbformat": 4,
 "nbformat_minor": 5
}

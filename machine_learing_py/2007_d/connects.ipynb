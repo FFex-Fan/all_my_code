{
 "cells": [
  {
   "cell_type": "markdown",
   "metadata": {},
   "source": [
    "## 读取连接信息，构建邻接矩阵"
   ]
  },
  {
   "cell_type": "code",
   "execution_count": 1,
   "metadata": {},
   "outputs": [],
   "source": [
    "import pandas as pd\n",
    "import numpy as np\n",
    "\n",
    "# 读取连接信息\n",
    "connects_datas = pd.read_csv('connects.csv',)\n",
    "\n"
   ]
  },
  {
   "cell_type": "code",
   "execution_count": 2,
   "metadata": {},
   "outputs": [],
   "source": [
    "L1_ports = ['D']\n",
    "L2_ports = [f'X{i}' for i in range(1, 6)]\n",
    "L3_ports = [f'Z{i}' for i in range(1, 74)]"
   ]
  },
  {
   "cell_type": "code",
   "execution_count": 3,
   "metadata": {},
   "outputs": [],
   "source": [
    "# 三角矩阵转换为对称矩阵\n",
    "def upper_to_symmetric(matrix):\n",
    "    upper_triangular = np.triu(matrix)\n",
    "    symmetric = upper_triangular + upper_triangular.T - np.diag(np.diag(upper_triangular))\n",
    "    return symmetric\n",
    "\n",
    "\n",
    "# 构建X1所在县的上三角邻接矩阵\n",
    "n = 16 + 1\n",
    "labels = ['X1'] + [f'Z{i}' for i in range(1, 17)]\n",
    "label_to_index = {label: index for index, label in enumerate(labels)}\n",
    "adj_matrix = np.zeros((n, n))\n",
    "for i in range(n):\n",
    "    for j in range(n):\n",
    "        adj_matrix[i,j] = -1000\n",
    "for i in range(len(connects_datas)):\n",
    "    if connects_datas.iloc[i, 0] in labels and connects_datas.iloc[i, 1] in labels:\n",
    "        adj_matrix[label_to_index[connects_datas.iloc[i, 0]], label_to_index[connects_datas.iloc[i, 1]]] = connects_datas.iloc[i, 2]\n",
    "\n",
    "adj_matrix = upper_to_symmetric(adj_matrix)\n"
   ]
  },
  {
   "cell_type": "code",
   "execution_count": 4,
   "metadata": {},
   "outputs": [],
   "source": [
    "# 17个邮局\n",
    "class PostOffice():\n",
    "    def __init__(self, name, unload_num, load_num):\n",
    "        self.name = name\n",
    "        self.level = 3 if name[0] == 'Z' else 2 if name[0] == 'X' else 1\n",
    "        self.unload_num = unload_num\n",
    "        self.load_num = load_num\n",
    "        self.load_unload_time = 5 if self.level == 3 else 10 if self.level == 2 else 0\n",
    "        self.reachable_post_offices_and_distances = []\n",
    "        self.get_reachable_post_offices_and_distances()\n",
    "    def get_reachable_post_offices_and_distances(self):\n",
    "        for i in range(len(adj_matrix)):\n",
    "            if adj_matrix[i, label_to_index[self.name]] != -1000:\n",
    "                self.reachable_post_offices_and_distances.append((labels[i], adj_matrix[i, label_to_index[self.name]]))\n"
   ]
  },
  {
   "cell_type": "code",
   "execution_count": 5,
   "metadata": {},
   "outputs": [],
   "source": [
    "# 初始化17个邮局\n",
    "PostOffice_in_X1_list = []\n",
    "PostOffice_in_X1_list.append(PostOffice('X1', 0, 0))\n",
    "PostOffice_in_X1_list.append(PostOffice('Z1', 10, 9))\n",
    "PostOffice_in_X1_list.append(PostOffice('Z2', 15, 14))\n",
    "PostOffice_in_X1_list.append(PostOffice('Z3', 6, 5))\n",
    "PostOffice_in_X1_list.append(PostOffice('Z4', 9, 10))\n",
    "PostOffice_in_X1_list.append(PostOffice('Z5', 13, 9))\n",
    "PostOffice_in_X1_list.append(PostOffice('Z6', 6, 10))\n",
    "PostOffice_in_X1_list.append(PostOffice('Z7', 11, 13))\n",
    "PostOffice_in_X1_list.append(PostOffice('Z8', 4, 9))\n",
    "PostOffice_in_X1_list.append(PostOffice('Z9', 13, 15))\n",
    "PostOffice_in_X1_list.append(PostOffice('Z10', 17, 9))\n",
    "PostOffice_in_X1_list.append(PostOffice('Z11', 11, 6))\n",
    "PostOffice_in_X1_list.append(PostOffice('Z12', 2, 7))\n",
    "PostOffice_in_X1_list.append(PostOffice('Z13', 11, 13))\n",
    "PostOffice_in_X1_list.append(PostOffice('Z14', 21, 15))\n",
    "PostOffice_in_X1_list.append(PostOffice('Z15', 13, 10))\n",
    "PostOffice_in_X1_list.append(PostOffice('Z16', 14, 16))"
   ]
  },
  {
   "cell_type": "code",
   "execution_count": 6,
   "metadata": {},
   "outputs": [],
   "source": [
    "# 邮车\n",
    "class Mail_car():\n",
    "    def __init__(self, capability, star_post_office):\n",
    "        self.capability = capability\n",
    "        self.current_load = 0\n",
    "        self.current_free = capability\n",
    "        self.start_post_office = star_post_office\n",
    "        self.current_post_office = star_post_office"
   ]
  },
  {
   "cell_type": "code",
   "execution_count": 28,
   "metadata": {},
   "outputs": [],
   "source": [
    "# 初始化16个未到达的支局\n",
    "unreached_post_offices = [i for i in range(1,17)]"
   ]
  },
  {
   "cell_type": "code",
   "execution_count": 39,
   "metadata": {},
   "outputs": [],
   "source": [
    "# 初始两辆车\n",
    "mail_car_list = []\n",
    "mail_car_list.append(Mail_car(65,0))\n",
    "mail_car_list.append(Mail_car(65,0))"
   ]
  },
  {
   "cell_type": "code",
   "execution_count": 7,
   "metadata": {},
   "outputs": [
    {
     "data": {
      "text/plain": [
       "21.0"
      ]
     },
     "execution_count": 7,
     "metadata": {},
     "output_type": "execute_result"
    }
   ],
   "source": [
    "adj_matrix[8][16]"
   ]
  },
  {
   "cell_type": "code",
   "execution_count": 9,
   "metadata": {},
   "outputs": [],
   "source": [
    "# # 各点之间最短路径\n",
    "# def dijkstra(adj_matrix):\n",
    "#     n = len(adj_matrix)\n",
    "#     dist_matrix = np.zeros((n, n))\n",
    "    \n",
    "#     for i in range(n):\n",
    "#         dist = [float('inf')] * n\n",
    "#         visited = [False] * n\n",
    "#         dist[i] = 0\n",
    "        \n",
    "#         for _ in range(n):\n",
    "#             u = min((v for v in range(n) if not visited[v]), key=lambda v: dist[v])\n",
    "#             visited[u] = True\n",
    "            \n",
    "#             for v in range(n):\n",
    "#                 if adj_matrix[u][v] != -1000 and not visited[v] and dist[u] + adj_matrix[u][v] < dist[v]:\n",
    "#                     dist[v] = dist[u] + adj_matrix[u][v]\n",
    "        \n",
    "#         dist_matrix[i] = dist\n",
    "\n",
    "#     return dist_matrix"
   ]
  },
  {
   "cell_type": "code",
   "execution_count": 8,
   "metadata": {},
   "outputs": [],
   "source": [
    "import numpy as np\n",
    "\n",
    "def dijkstra(adj_matrix):\n",
    "    n = len(adj_matrix)\n",
    "    dist_matrix = np.zeros((n, n))\n",
    "    path_matrix = [[[] for _ in range(n)] for _ in range(n)]\n",
    "    \n",
    "    for i in range(n):\n",
    "        dist = [float('inf')] * n\n",
    "        visited = [False] * n\n",
    "        prev = [-1] * n  # 初始化前驱顶点列表\n",
    "        dist[i] = 0\n",
    "        \n",
    "        for _ in range(n):\n",
    "            u = min((v for v in range(n) if not visited[v]), key=lambda v: dist[v])\n",
    "            visited[u] = True\n",
    "            \n",
    "            for v in range(n):\n",
    "                if adj_matrix[u][v] != -1000 and not visited[v] and dist[u] + adj_matrix[u][v] < dist[v]:\n",
    "                    dist[v] = dist[u] + adj_matrix[u][v]\n",
    "                    prev[v] = u\n",
    "        \n",
    "        # 保存距离\n",
    "        dist_matrix[i] = dist\n",
    "        \n",
    "        # 重建路径\n",
    "        for end in range(n):\n",
    "            path = []\n",
    "            step = end\n",
    "            while step != -1:\n",
    "                path.append(step)\n",
    "                step = prev[step]\n",
    "            path_matrix[i][end] = path[::-1]  # 反转路径以显示从起始点到终点的正确顺序\n",
    "\n",
    "    return dist_matrix, path_matrix\n"
   ]
  },
  {
   "cell_type": "code",
   "execution_count": 9,
   "metadata": {},
   "outputs": [],
   "source": [
    "min_path_matrix, min_paths = dijkstra(adj_matrix)"
   ]
  },
  {
   "cell_type": "code",
   "execution_count": 10,
   "metadata": {},
   "outputs": [
    {
     "name": "stdout",
     "output_type": "stream",
     "text": [
      "从节点 0 到其他所有节点的最短路径节点顺序列表：\n",
      "到节点 1 的路径：[0]\n",
      "到节点 2 的路径：[0, 1]\n",
      "到节点 3 的路径：[0, 3, 2]\n",
      "到节点 4 的路径：[0, 3]\n",
      "到节点 5 的路径：[0, 4]\n",
      "到节点 6 的路径：[0, 4, 5]\n",
      "到节点 7 的路径：[0, 4, 6]\n",
      "到节点 8 的路径：[0, 4, 6, 7]\n",
      "到节点 9 的路径：[0, 10, 8]\n",
      "到节点 10 的路径：[0, 10, 9]\n",
      "到节点 11 的路径：[0, 10]\n",
      "到节点 12 的路径：[0, 11]\n",
      "到节点 13 的路径：[0, 12]\n",
      "到节点 14 的路径：[0, 13]\n",
      "到节点 15 的路径：[0, 14]\n",
      "到节点 16 的路径：[0, 15]\n",
      "到节点 17 的路径：[0, 15, 16]\n"
     ]
    }
   ],
   "source": [
    "\n",
    "\n",
    "\n",
    "source_node = 0\n",
    "shortest_paths = min_paths[source_node]\n",
    "min_path_node_list_from_X1 = shortest_paths[1:]\n",
    "print(\"从节点 {} 到其他所有节点的最短路径节点顺序列表：\".format(source_node))\n",
    "for target_node, path in enumerate(shortest_paths):\n",
    "    # min_path_node_list_from_X1.append(path)\n",
    "    print(\"到节点 {} 的路径：{}\".format(target_node+1, path))"
   ]
  },
  {
   "cell_type": "code",
   "execution_count": 11,
   "metadata": {},
   "outputs": [],
   "source": [
    "def cost_of_onepath(distance, loaded, load_capability):\n",
    "    empty_rate = (load_capability - loaded) / load_capability\n",
    "    # print(f'{empty_rate}\\t{distance}')\n",
    "    cost_of_onepath = 2*empty_rate*distance\n",
    "    return cost_of_onepath"
   ]
  },
  {
   "cell_type": "code",
   "execution_count": 12,
   "metadata": {},
   "outputs": [],
   "source": [
    "l2_car_capability = 65\n",
    "# 计算环路损失\n",
    "def cost_of_circle_path(node_list,if_load_label_list):\n",
    "    cost = 0\n",
    "    nodes_num = len(node_list)\n",
    "\n",
    "    if node_list[0] == node_list[-1]:\n",
    "        # 合并后回路\n",
    "        parts_num = sum(if_load_label_list)-1\n",
    "        # 计算全路径unload所需总数\n",
    "        unload_spots_list = [node for index,node in enumerate(node_list) if if_load_label_list[index] == 1]\n",
    "        now_loaded_num = 0\n",
    "        for node in unload_spots_list:\n",
    "            now_loaded_num += PostOffice_in_X1_list[node].unload_num\n",
    "        now_empty_rate = (l2_car_capability - now_loaded_num) / l2_car_capability\n",
    "        # 分链路依序计算cost，并相加\n",
    "        now_spot = 0\n",
    "        # 同空车率为一段\n",
    "        for i in range(parts_num):\n",
    "            distance = 0\n",
    "            while(if_load_label_list[now_spot+1]==0):\n",
    "                distance += adj_matrix[node_list[now_spot], node_list[now_spot+1]]\n",
    "                now_spot += 1\n",
    "            distance += adj_matrix[node_list[now_spot], node_list[now_spot+1]]\n",
    "            now_spot += 1\n",
    "            cost += 2*now_empty_rate*distance\n",
    "            # print(f'{now_empty_rate}\\t{distance}')\n",
    "            now_loaded_num -= PostOffice_in_X1_list[node_list[now_spot]].unload_num\n",
    "            now_loaded_num += PostOffice_in_X1_list[node_list[now_spot]].load_num\n",
    "            now_empty_rate = (l2_car_capability - now_loaded_num) / l2_car_capability   \n",
    "    else:\n",
    "        # 初始单向链路 分别计算来回效益\n",
    "        oneway_distance = min_path_matrix[node_list[0], node_list[-1]]\n",
    "        # print(f'{node_list[0]}\\t{node_list[-1]}')\n",
    "        # print(oneway_distance)\n",
    "        cost += cost_of_onepath(oneway_distance, PostOffice_in_X1_list[node_list[-1]].unload_num, l2_car_capability)\n",
    "        cost += cost_of_onepath(oneway_distance, PostOffice_in_X1_list[node_list[-1]].load_num, l2_car_capability)\n",
    "        \n",
    "    return cost\n",
    "\n",
    "# 获取两条路径合并的最好结果    \n",
    "def get_save_of_combine(node_list_with_label_1,node_list_with_label_2):\n",
    "    w1 = cost_of_circle_path(node_list_with_label_1[0],node_list_with_label_1[1]) \n",
    "    w2 = cost_of_circle_path(node_list_with_label_2[0],node_list_with_label_2[1])\n",
    "    node_list_with_label_w3_list = get_combine_node_list_with_label_list(node_list_with_label_1,node_list_with_label_2)\n",
    "    if len(node_list_with_label_w3_list) == 0:\n",
    "        return 'no combine','no combine'\n",
    "    combine_cost_list = [cost_of_circle_path(node_list_with_label[0],node_list_with_label[1]) for node_list_with_label in node_list_with_label_w3_list]\n",
    "    best_path_index = combine_cost_list.index(min(combine_cost_list))\n",
    "    best_path_cost = min(combine_cost_list)\n",
    "    best_path_node_list_with_label = node_list_with_label_w3_list[best_path_index]\n",
    "    save_of_combine = w1 + w2 - best_path_cost\n",
    "    return save_of_combine,best_path_node_list_with_label\n",
    "\n",
    "# 获取所有可能的路径混合 \n",
    "def get_combine_node_list_with_label_list(node_list_with_label_1,node_list_with_label_2):\n",
    "    node_list_1 = node_list_with_label_1[0]\n",
    "    node_list_2 = node_list_with_label_2[0]\n",
    "    if_load_label_list_1 = node_list_with_label_1[1]\n",
    "    if_load_label_list_2 = node_list_with_label_2[1]\n",
    "    # 将所有链路改写为回路\n",
    "    if node_list_1[-1] != 0 :\n",
    "        node_list_1 = node_list_1 + node_list_1[:-1][::-1]\n",
    "        if_load_label_list_1 = if_load_label_list_1 + if_load_label_list_1[:-1][::-1]\n",
    "    if node_list_2[-1] != 0 :\n",
    "        node_list_2 = node_list_2 + node_list_2[:-1][::-1]\n",
    "        if_load_label_list_2 = if_load_label_list_2 + if_load_label_list_2[:-1][::-1]\n",
    "    # 定位两条回路的四个紧接着县局的需装卸的支局index\n",
    "    # print(if_load_label_list_1)\n",
    "    # print(if_load_label_list_2)\n",
    "    start_spot_1 = if_load_label_list_1[1:-1].index(1) + 1\n",
    "    end_spot_1 = len(node_list_1) - if_load_label_list_1[::-1][1:-1].index(1) - 2\n",
    "    start_spot_2 = if_load_label_list_2[1:-1].index(1) + 1\n",
    "    end_spot_2 = len(node_list_2) - if_load_label_list_2[::-1][1:-1].index(1) - 2\n",
    "    # print(start_spot_1,end_spot_1,start_spot_2,end_spot_2)\n",
    "# [1,2,3,4,5]\n",
    "    # 全视为环路\n",
    "    possible_path =  [\n",
    "        [node_list_1[:end_spot_1+1] + node_list_2[start_spot_2:],if_load_label_list_1[:end_spot_1+1] + if_load_label_list_2[start_spot_2:]],\n",
    "        [node_list_1[:end_spot_1+1] + node_list_2[:end_spot_2+1][::-1],if_load_label_list_1[:end_spot_1+1] + if_load_label_list_2[:end_spot_2+1][::-1]],\n",
    "        [node_list_2[:end_spot_2+1] + node_list_1[start_spot_1:],if_load_label_list_2[:end_spot_2+1] + if_load_label_list_1[start_spot_1:]],\n",
    "        [node_list_2[:end_spot_2+1] + node_list_1[:end_spot_1+1][::-1],if_load_label_list_2[:end_spot_2+1] + if_load_label_list_1[:end_spot_1+1][::-1]]\n",
    "    ]\n",
    "    # print(result)\n",
    "    # print(node_list_1[:end_spot_1+1])\n",
    "    # print(node_list_2[start_spot_2:])\n",
    "    # 四种情况讨论\n",
    "    # if node_list_1[-1] != 0 and node_list_2[-1] != 0:\n",
    "    #     # 两种合并链路，互为反向\n",
    "    #     result =  [[node_list_1 + node_list_2[::-1] , if_load_label_list_1 + if_load_label_list_2[::-1]],[node_list_2 + node_list_1[::-1] , if_load_label_list_2 + if_load_label_list_1[::-1]]]\n",
    "    # # 第二种，前者为初始链回路，后者为环路\n",
    "    # elif node_list_1[-1] != 0 and node_list_2[-1] == 0:\n",
    "    #     # 四种合并链路\n",
    "    #     result =  [\n",
    "    #         [node_list_1 + node_list_2[1:],if_load_label_list_1 + if_load_label_list_2[1:]],\n",
    "    #         [node_list_1 + node_list_2[:-1][::-1],if_load_label_list_1 + if_load_label_list_2[:-1][::-1]],\n",
    "    #         [node_list_2[:-1] + node_list_1[::-1],if_load_label_list_2[:-1] + if_load_label_list_1],\n",
    "    #         [node_list_2[1:][::-1] + node_list_1[::-1],if_load_label_list_2[1:][::-1] + if_load_label_list_1[::-1]]\n",
    "    #     ]\n",
    "    # # 第三种，前者为环路，后者为初始链回路\n",
    "    # elif node_list_1[-1] == 0 and node_list_2[-1] != 0:\n",
    "    #     # 四种合并链路\n",
    "    #     result =  [\n",
    "    #         [node_list_2 + node_list_1[1:],if_load_label_list_2 + if_load_label_list_1[1:]],\n",
    "    #         [node_list_2 + node_list_1[:-1][::-1],if_load_label_list_2 + if_load_label_list_1[:-1][::-1]],\n",
    "    #         [node_list_1[:-1] + node_list_2[::-1],if_load_label_list_1[:-1] + if_load_label_list_2],\n",
    "    #         [node_list_1[1:][::-1] + node_list_2[::-1],if_load_label_list_1[1:][::-1] + if_load_label_list_2[::-1]]\n",
    "    #     ]\n",
    "    # # 第四种，都是环路\n",
    "    # elif node_list_1[-1] == 0 and node_list_2[-1] == 0:\n",
    "    #     # 四种合并链路\n",
    "    #     result =  [\n",
    "    #         [node_list_1[:-1]] + node_list_2[1:],if_load_label_list_1[:-1] + if_load_label_list_2[1:],\n",
    "    #         [node_list_1[:-1]] + node_list_2[:-1][::-1],if_load_label_list_1[:-1] + if_load_label_list_2[:-1][::-1],\n",
    "    #         [node_list_2[:-1]] + node_list_1[1:],if_load_label_list_2[:-1] + if_load_label_list_1[1:],\n",
    "    #         [node_list_2[:-1]] + node_list_1[:-1][::-1],if_load_label_list_2[:-1] + if_load_label_list_1[:-1][::-1]\n",
    "    #     ]\n",
    "    \n",
    "    # 有重复装卸的路径删除\n",
    "    # 先取出所有路径的装卸点\n",
    "    main_spots_list = [[x for x, mask in zip(node_list_with_label[0], node_list_with_label[1]) if mask == 1] for node_list_with_label in possible_path]\n",
    "    \n",
    "    # 合并后的路径必然0为起点和终点,删除有除0外的重复装卸点的路径\n",
    "    result = [x for x, main_spots in zip(possible_path, main_spots_list) if len(set(main_spots)) == len(main_spots) -1]\n",
    "    # 然后补充仅仅是增加装卸点的路径\n",
    "    for node_list_with_label in possible_path:\n",
    "        if node_list_with_label[0] == node_list_1 or node_list_with_label[0] == node_list_2:\n",
    "            result.append(node_list_with_label)\n",
    "    result = del_invalid_path(result)\n",
    "    return result\n",
    "\n",
    "def check_if_overload(node_list, if_load_label_list):\n",
    "    now_load = 0\n",
    "    # 出发前装载要送达沿途装卸支局的货物\n",
    "    for i in range(len(node_list)):\n",
    "        if if_load_label_list[i] == 1:\n",
    "            now_load += PostOffice_in_X1_list[node_list[i]].unload_num\n",
    "    for i in range(len(node_list)):\n",
    "        if now_load > l2_car_capability:\n",
    "            return True\n",
    "        if if_load_label_list[i] == 1:\n",
    "            now_load -= PostOffice_in_X1_list[node_list[i]].unload_num\n",
    "            now_load += PostOffice_in_X1_list[node_list[i]].load_num\n",
    "    return False\n",
    "\n",
    "def check_if_timeout(node_list, if_load_label_list):\n",
    "    # print(node_list)\n",
    "    path_lists = []\n",
    "    for i in range(len(node_list)-1):\n",
    "        tmp_distance = adj_matrix[node_list[i], node_list[i+1]]\n",
    "        if tmp_distance < 0:\n",
    "            return True\n",
    "        path_lists.append(tmp_distance)\n",
    "    sum_distance = sum(path_lists)\n",
    "    main_l3_posts_num = sum(if_load_label_list) - 2\n",
    "    # 总分钟数\n",
    "    spend_time = (sum_distance * 2) + main_l3_posts_num*5 +20\n",
    "    if 360 >= spend_time:\n",
    "        return False\n",
    "    else:\n",
    "        return True\n",
    "\n",
    "\n",
    "def del_invalid_path(node_list_with_label_list):\n",
    "    result = []\n",
    "    for node_list_with_label in node_list_with_label_list:\n",
    "        node_list, if_load_label_list = node_list_with_label[0], node_list_with_label[1]\n",
    "        timeout_label = check_if_timeout(node_list, if_load_label_list)\n",
    "        overload_label = check_if_overload(node_list, if_load_label_list)\n",
    "        if not timeout_label and not overload_label:\n",
    "            result.append(node_list_with_label)\n",
    "    return result\n",
    "\n"
   ]
  },
  {
   "cell_type": "code",
   "execution_count": 13,
   "metadata": {},
   "outputs": [
    {
     "name": "stdout",
     "output_type": "stream",
     "text": [
      "13.0\n",
      "9.0\n",
      "21.0\n",
      "13.0\n",
      "20.0\n"
     ]
    }
   ],
   "source": [
    "print(adj_matrix[4][5])\n",
    "print(adj_matrix[5][6])\n",
    "print(adj_matrix[5][7])\n",
    "print(adj_matrix[6][7])\n",
    "print(adj_matrix[4][6])\n"
   ]
  },
  {
   "cell_type": "code",
   "execution_count": null,
   "metadata": {},
   "outputs": [],
   "source": [
    "adj_matrix[4][5]"
   ]
  },
  {
   "cell_type": "code",
   "execution_count": 14,
   "metadata": {},
   "outputs": [
    {
     "data": {
      "text/plain": [
       "[[0, 1],\n",
       " [0, 3, 2],\n",
       " [0, 3],\n",
       " [0, 4],\n",
       " [0, 4, 5],\n",
       " [0, 4, 6],\n",
       " [0, 4, 6, 7],\n",
       " [0, 10, 8],\n",
       " [0, 10, 9],\n",
       " [0, 10],\n",
       " [0, 11],\n",
       " [0, 12],\n",
       " [0, 13],\n",
       " [0, 14],\n",
       " [0, 15],\n",
       " [0, 15, 16]]"
      ]
     },
     "execution_count": 14,
     "metadata": {},
     "output_type": "execute_result"
    }
   ],
   "source": [
    "min_path_node_list_from_X1"
   ]
  },
  {
   "cell_type": "code",
   "execution_count": 15,
   "metadata": {},
   "outputs": [],
   "source": [
    "import copy\n",
    "now_path_list = copy.deepcopy(min_path_node_list_from_X1)"
   ]
  },
  {
   "cell_type": "code",
   "execution_count": 153,
   "metadata": {},
   "outputs": [
    {
     "data": {
      "text/plain": [
       "[[0, 1],\n",
       " [0, 3, 2],\n",
       " [0, 3],\n",
       " [0, 4],\n",
       " [0, 4, 5],\n",
       " [0, 4, 6],\n",
       " [0, 4, 6, 7],\n",
       " [0, 10, 8],\n",
       " [0, 10, 9],\n",
       " [0, 10],\n",
       " [0, 11],\n",
       " [0, 12],\n",
       " [0, 13],\n",
       " [0, 14],\n",
       " [0, 15],\n",
       " [0, 15, 16]]"
      ]
     },
     "execution_count": 153,
     "metadata": {},
     "output_type": "execute_result"
    }
   ],
   "source": [
    "min_path_node_list_from_X1"
   ]
  },
  {
   "cell_type": "code",
   "execution_count": 154,
   "metadata": {},
   "outputs": [],
   "source": [
    "# now_path_list_with_label_list = [[i,[1]+[0]*(len(i)-2)+[1]]  for i in now_path_list]\n"
   ]
  },
  {
   "cell_type": "code",
   "execution_count": 155,
   "metadata": {},
   "outputs": [
    {
     "data": {
      "text/plain": [
       "[[[0, 1], [1, 1]],\n",
       " [[0, 3, 2], [1, 0, 1]],\n",
       " [[0, 3], [1, 1]],\n",
       " [[0, 4], [1, 1]],\n",
       " [[0, 4, 5], [1, 0, 1]],\n",
       " [[0, 4, 6], [1, 0, 1]],\n",
       " [[0, 4, 6, 7], [1, 0, 0, 1]],\n",
       " [[0, 10, 8], [1, 0, 1]],\n",
       " [[0, 10, 9], [1, 0, 1]],\n",
       " [[0, 10], [1, 1]],\n",
       " [[0, 11], [1, 1]],\n",
       " [[0, 12], [1, 1]],\n",
       " [[0, 13], [1, 1]],\n",
       " [[0, 14], [1, 1]],\n",
       " [[0, 15], [1, 1]],\n",
       " [[0, 15, 16], [1, 0, 1]]]"
      ]
     },
     "execution_count": 155,
     "metadata": {},
     "output_type": "execute_result"
    }
   ],
   "source": [
    "now_path_list_with_label_list"
   ]
  },
  {
   "cell_type": "code",
   "execution_count": 101,
   "metadata": {},
   "outputs": [],
   "source": [
    "import random\n",
    "\n",
    "def choose_one_combine(now_path_list_with_label_list,rate = None, now_min_cost = None):\n",
    "    saved_cost_list = []\n",
    "    new_path_list = []\n",
    "    combine_path_index = []\n",
    "    combine_flag = False\n",
    "    for i in range(len(now_path_list_with_label_list)):\n",
    "        for j in range(i+1,len(now_path_list_with_label_list)):\n",
    "            path_1 = now_path_list_with_label_list[i]\n",
    "            path_2 = now_path_list_with_label_list[j]\n",
    "            # 剪枝，待合并的两条路都比当前now_min_cost大,就跳过\n",
    "            # if now_min_cost:\n",
    "            #     if cost_of_circle_path(path_1[0],path_1[1]) > now_min_cost and cost_of_circle_path(path_2[0],path_2[1]) > now_min_cost :\n",
    "            #         continue\n",
    "            save_of_combine,best_path_node_list_with_label = get_save_of_combine(path_1,path_2)\n",
    "            if save_of_combine == 'no combine':\n",
    "                continue\n",
    "            else:\n",
    "                saved_cost_list.append(save_of_combine)\n",
    "                new_path_list.append(best_path_node_list_with_label)\n",
    "                combine_path_index.append((i,j))\n",
    "                combine_flag = True\n",
    "    if not combine_flag:\n",
    "        return now_path_list_with_label_list, combine_flag\n",
    "    sorted_indices = sorted(range(len(saved_cost_list)), key=lambda i: saved_cost_list[i],reverse=True)\n",
    "    max_saved_combine_index = sorted_indices[0]\n",
    "    if rate:\n",
    "        if len(saved_cost_list) != 1:\n",
    "            available_choice_num = len(saved_cost_list)\n",
    "            if available_choice_num >= len(rate):\n",
    "                random_value = random.randint(0,sum(rate))\n",
    "                selected_index = 0\n",
    "                for i in range(len(rate)):\n",
    "                    random_value -= rate[i]\n",
    "                    if random_value <= 0:\n",
    "                        break\n",
    "                    selected_index += 1\n",
    "            if available_choice_num < len(rate):\n",
    "                random_value = random.randint(0,sum(rate[:available_choice_num]))\n",
    "                selected_index = 0\n",
    "                for i in range(available_choice_num):\n",
    "                    random_value -= rate[i]\n",
    "                    if random_value <= 0:\n",
    "                        break\n",
    "                    selected_index += 1\n",
    "            max_saved_combine_index= sorted_indices[selected_index]\n",
    "    # 确定合并的两条路径下标\n",
    "    combined_path_indexes = combine_path_index[max_saved_combine_index]\n",
    "    # print(f'1 combine:\\n {now_path_list_with_label_list[combined_path_indexes[1]]} \\n {now_path_list_with_label_list[combined_path_indexes[0]]} \\n {new_path_list[max_saved_combine_index]}')\n",
    "    del now_path_list_with_label_list[combined_path_indexes[1]]\n",
    "    del now_path_list_with_label_list[combined_path_indexes[0]]\n",
    "    # 为合并的路径检查是否可优化（2-opt）\n",
    "    optimized_path = opt_optimization(new_path_list[max_saved_combine_index])\n",
    "\n",
    "    now_path_list_with_label_list.append(optimized_path)\n",
    "    \n",
    "    return now_path_list_with_label_list, combine_flag\n",
    "\n",
    "def opt_optimization(path_list_with_label):\n",
    "    mid_node_num = len(path_list_with_label[0])\n",
    "    min_cost = cost_of_circle_path(path_list_with_label[0],path_list_with_label[1])\n",
    "    min_path_node_list = path_list_with_label[0]\n",
    "    min_path_load_label_list = path_list_with_label[1]\n",
    "    for i in range(1,mid_node_num-2):\n",
    "        for j in range(i+1,mid_node_num-1):\n",
    "            new_path_node_list = copy.deepcopy(path_list_with_label[0])\n",
    "            new_path_node_list = new_path_node_list[0:i] + new_path_node_list[i:j+1][::-1] + new_path_node_list[j+1:]\n",
    "            new_path_load_label_list = copy.deepcopy(path_list_with_label[1])\n",
    "            new_path_load_label_list = new_path_load_label_list[0:i] + new_path_load_label_list[i:j+1][::-1] + new_path_load_label_list[j+1:]\n",
    "            if check_if_overload(new_path_node_list,new_path_load_label_list) or check_if_timeout(new_path_node_list,new_path_load_label_list):\n",
    "                continue\n",
    "            \n",
    "            new_cost = cost_of_circle_path(new_path_node_list,new_path_load_label_list)\n",
    "            if  new_cost < min_cost:\n",
    "                # print('2-opt activate')\n",
    "                # print(f'from path {min_path_node_list} to {new_path_node_list}')\n",
    "                # print(f'from load {min_path_load_label_list} to {new_path_load_label_list}')\n",
    "                # print(f'from cost {min_cost} to {new_cost}')\n",
    "\n",
    "                min_cost = new_cost\n",
    "                min_path_node_list = new_path_node_list\n",
    "                min_path_load_label_list = new_path_load_label_list\n",
    "                \n",
    "    return [min_path_node_list,min_path_load_label_list]\n",
    "\n",
    "\n",
    "\n",
    "\n",
    "            "
   ]
  },
  {
   "cell_type": "code",
   "execution_count": 102,
   "metadata": {},
   "outputs": [
    {
     "data": {
      "text/plain": [
       "(155.2923076923077,\n",
       " [[[0, 4], [1, 1]],\n",
       "  [[0, 4, 6, 7, 8, 9, 16, 10, 0], [1, 0, 1, 1, 1, 1, 1, 0, 1]],\n",
       "  [[0, 3, 2, 5, 15, 14, 12, 0], [1, 0, 1, 1, 1, 1, 1, 1]],\n",
       "  [[0, 13, 1, 3, 10, 11, 0], [1, 1, 1, 1, 1, 1, 1]]],\n",
       " 1)"
      ]
     },
     "execution_count": 102,
     "metadata": {},
     "output_type": "execute_result"
    }
   ],
   "source": [
    "try_once(1)"
   ]
  },
  {
   "cell_type": "code",
   "execution_count": 182,
   "metadata": {},
   "outputs": [
    {
     "name": "stdout",
     "output_type": "stream",
     "text": [
      "1 combine:\n",
      " [[0, 10, 8], [1, 0, 1]] \n",
      " [[0, 4, 5, 7], [1, 0, 0, 1]] \n",
      " [[0, 10, 8, 7, 5, 4, 0], [1, 0, 1, 1, 0, 0, 1]]\n",
      "1 combine:\n",
      " [[0, 10, 8, 7, 5, 4, 0], [1, 0, 1, 1, 0, 0, 1]] \n",
      " [[0, 15, 16], [1, 0, 1]] \n",
      " [[0, 15, 16, 8, 7, 5, 4, 0], [1, 0, 1, 1, 1, 0, 0, 1]]\n",
      "1 combine:\n",
      " [[0, 15, 16, 8, 7, 5, 4, 0], [1, 0, 1, 1, 1, 0, 0, 1]] \n",
      " [[0, 10, 9], [1, 0, 1]] \n",
      " [[0, 10, 9, 16, 8, 7, 5, 4, 0], [1, 0, 1, 1, 1, 1, 0, 0, 1]]\n",
      "1 combine:\n",
      " [[0, 10, 9, 16, 8, 7, 5, 4, 0], [1, 0, 1, 1, 1, 1, 0, 0, 1]] \n",
      " [[0, 4, 6], [1, 0, 1]] \n",
      " [[0, 4, 6, 7, 8, 16, 9, 10, 0], [1, 0, 1, 1, 1, 1, 1, 0, 1]]\n",
      "1 combine:\n",
      " [[0, 4, 5], [1, 0, 1]] \n",
      " [[0, 3, 2], [1, 0, 1]] \n",
      " [[0, 3, 2, 5, 4, 0], [1, 0, 1, 1, 0, 1]]\n",
      "1 combine:\n",
      " [[0, 3, 2, 5, 4, 0], [1, 0, 1, 1, 0, 1]] \n",
      " [[0, 1], [1, 1]] \n",
      " [[0, 1, 2, 5, 4, 0], [1, 1, 1, 1, 0, 1]]\n",
      "1 combine:\n",
      " [[0, 1, 2, 5, 4, 0], [1, 1, 1, 1, 0, 1]] \n",
      " [[0, 14], [1, 1]] \n",
      " [[0, 1, 2, 5, 14, 0], [1, 1, 1, 1, 1, 1]]\n",
      "1 combine:\n",
      " [[0, 15], [1, 1]] \n",
      " [[0, 11], [1, 1]] \n",
      " [[0, 15, 11, 0], [1, 1, 1, 1]]\n",
      "1 combine:\n",
      " [[0, 15, 11, 0], [1, 1, 1, 1]] \n",
      " [[0, 10], [1, 1]] \n",
      " [[0, 10, 15, 11, 0], [1, 1, 1, 1, 1]]\n",
      "1 combine:\n",
      " [[0, 10, 15, 11, 0], [1, 1, 1, 1, 1]] \n",
      " [[0, 12], [1, 1]] \n",
      " [[0, 12, 11, 15, 10, 0], [1, 1, 1, 1, 1, 1]]\n",
      "1 combine:\n",
      " [[0, 12, 11, 15, 10, 0], [1, 1, 1, 1, 1, 1]] \n",
      " [[0, 13], [1, 1]] \n",
      " [[0, 13, 12, 11, 15, 10, 0], [1, 1, 1, 1, 1, 1, 1]]\n",
      "1 combine:\n",
      " [[0, 1, 2, 5, 14, 0], [1, 1, 1, 1, 1, 1]] \n",
      " [[0, 3], [1, 1]] \n",
      " [[0, 3, 1, 2, 5, 14, 0], [1, 1, 1, 1, 1, 1, 1]]\n",
      "1 combine:\n",
      " [[0, 13, 12, 11, 15, 10, 0], [1, 1, 1, 1, 1, 1, 1]] \n",
      " [[0, 4], [1, 1]] \n",
      " [[0, 4, 10, 15, 11, 12, 13, 0], [1, 1, 1, 1, 1, 1, 1, 1]]\n"
     ]
    }
   ],
   "source": [
    "now_path_list_with_label_list = [[i,[1]+[0]*(len(i)-2)+[1]]  for i in now_path_list]\n",
    "\n",
    "while True:\n",
    "    new_path_list_with_label_list, updated_flag = choose_one_combine(now_path_list_with_label_list)\n",
    "    if not updated_flag:\n",
    "        break\n",
    "    now_path_list_with_label_list = new_path_list_with_label_list\n"
   ]
  },
  {
   "cell_type": "code",
   "execution_count": 17,
   "metadata": {},
   "outputs": [],
   "source": [
    "import threading\n",
    "\n",
    "# 创建锁对象\n",
    "# lock = threading.Lock()\n",
    "\n",
    "\n",
    "\n",
    "def try_once(args):\n",
    "    rate = [16,8,4,2,1]\n",
    "    index = args\n",
    "    now_path_list_with_label_list = [[i,[1]+[0]*(len(i)-2)+[1]]  for i in now_path_list]\n",
    "    while True:\n",
    "        new_path_list_with_label_list, updated_flag = choose_one_combine(now_path_list_with_label_list,rate=rate)\n",
    "        if not updated_flag:\n",
    "            break\n",
    "        now_path_list_with_label_list = new_path_list_with_label_list\n",
    "    now_cost = 0\n",
    "    for i in now_path_list_with_label_list:\n",
    "        now_cost += cost_of_circle_path(i[0],i[1])\n",
    "    return now_cost, now_path_list_with_label_list,index\n",
    "    "
   ]
  },
  {
   "cell_type": "code",
   "execution_count": 173,
   "metadata": {},
   "outputs": [
    {
     "name": "stdout",
     "output_type": "stream",
     "text": [
      "Progress: 100.00% Complete (10000/10000)\n"
     ]
    }
   ],
   "source": [
    "from concurrent.futures import ThreadPoolExecutor, as_completed\n",
    "from IPython.display import clear_output\n",
    "test_num = 10000\n",
    "count = 0\n",
    "# cost_and_path_list = [None]*test_num\n",
    "global min_cost,min_path_list\n",
    "min_cost = 1000\n",
    "cost_list = [None]*test_num\n",
    "path_list = [None]*test_num\n",
    "min_path_list = None\n",
    "with ThreadPoolExecutor(max_workers=32) as executor:\n",
    "    futures = [executor.submit(try_once, i) for i in range(test_num)]\n",
    "    for future in as_completed(futures):\n",
    "        count += 1\n",
    "        now_cost, now_path_list_with_label_list,i = future.result()\n",
    "        cost_list[i] = now_cost\n",
    "        if now_cost < min_cost:\n",
    "            min_cost = now_cost\n",
    "            min_path_list = now_path_list_with_label_list\n",
    "        # Calculate the percentage of completion\n",
    "        percent_complete = (count / test_num) * 100\n",
    "        # Print the real-time percentage progress\n",
    "        if count % 10 == 0:\n",
    "            clear_output(wait=True)\n",
    "            print(f\"Progress: {percent_complete:.2f}% Complete ({count}/{test_num})\")\n"
   ]
  },
  {
   "cell_type": "code",
   "execution_count": 45,
   "metadata": {},
   "outputs": [
    {
     "name": "stdout",
     "output_type": "stream",
     "text": [
      "Progress: 90.00% Complete (900/1000)\n"
     ]
    }
   ],
   "source": [
    "from IPython.display import clear_output\n",
    "import concurrent.futures\n",
    "import threading\n",
    "\n",
    "# 创建锁对象\n",
    "lock = threading.Lock()\n",
    "test_num = 1000\n",
    "count = 0\n",
    "# cost_and_path_list = [None]*test_num\n",
    "global min_cost,min_path_list\n",
    "min_cost = 1000\n",
    "min_path_list = None\n",
    "\n",
    "\n",
    "# 定义线程池，max_workers参数设置线程池中最多同时运行的线程数\n",
    "with concurrent.futures.ThreadPoolExecutor(max_workers=32) as executor:\n",
    "    # 提交任务给线程池，并获取结果\n",
    "    count = 0\n",
    "    results = executor.map(try_once, range(1, test_num))\n",
    "    # 处理每一个结果\n",
    "    for result in results:\n",
    "        now_cost, now_path_list_with_label_list,i = result\n",
    "        lock.acquire()\n",
    "        if now_cost < min_cost:\n",
    "            min_cost = now_cost\n",
    "            min_path_list = now_path_list_with_label_list\n",
    "        lock.release()\n",
    "        count += 1\n",
    "        percent_complete = (count / test_num) * 100\n",
    "        # # Print the real-time percentage progress\n",
    "        if count % 100 == 0:\n",
    "            clear_output(wait=True)\n",
    "            print(f\"Progress: {percent_complete:.2f}% Complete ({count}/{test_num})\")"
   ]
  },
  {
   "cell_type": "code",
   "execution_count": 46,
   "metadata": {},
   "outputs": [
    {
     "data": {
      "text/plain": [
       "58.338461538461544"
      ]
     },
     "execution_count": 46,
     "metadata": {},
     "output_type": "execute_result"
    }
   ],
   "source": [
    "min_cost"
   ]
  },
  {
   "cell_type": "code",
   "execution_count": 40,
   "metadata": {},
   "outputs": [
    {
     "data": {
      "text/plain": [
       "[[[0, 12, 11, 15, 16, 8, 9, 10, 0], [1, 1, 1, 1, 1, 1, 1, 0, 1]],\n",
       " [[0, 4, 6, 7, 5, 10, 0], [1, 1, 1, 1, 1, 1, 1]],\n",
       " [[0, 13, 1, 2, 3, 14, 0], [1, 1, 1, 1, 1, 1, 1]]]"
      ]
     },
     "execution_count": 40,
     "metadata": {},
     "output_type": "execute_result"
    }
   ],
   "source": [
    "min_path_list"
   ]
  },
  {
   "cell_type": "code",
   "execution_count": 103,
   "metadata": {},
   "outputs": [
    {
     "name": "stderr",
     "output_type": "stream",
     "text": [
      "  1%|          | 8/1000 [00:00<00:32, 30.37it/s]"
     ]
    },
    {
     "name": "stdout",
     "output_type": "stream",
     "text": [
      "min_cost updated to 244.5846153846154\n",
      "min_cost updated to 139.35384615384618\n",
      "min_cost updated to 107.35384615384616\n",
      "min_cost updated to 79.44615384615386\n"
     ]
    },
    {
     "name": "stderr",
     "output_type": "stream",
     "text": [
      "  2%|▏         | 20/1000 [00:00<00:31, 30.70it/s]"
     ]
    },
    {
     "name": "stdout",
     "output_type": "stream",
     "text": [
      "min_cost updated to 74.12307692307692\n"
     ]
    },
    {
     "name": "stderr",
     "output_type": "stream",
     "text": [
      "  6%|▋         | 65/1000 [00:02<00:29, 31.56it/s]"
     ]
    },
    {
     "name": "stdout",
     "output_type": "stream",
     "text": [
      "min_cost updated to 67.04615384615386\n"
     ]
    },
    {
     "name": "stderr",
     "output_type": "stream",
     "text": [
      " 19%|█▉        | 193/1000 [00:05<00:22, 35.94it/s]"
     ]
    },
    {
     "name": "stdout",
     "output_type": "stream",
     "text": [
      "min_cost updated to 60.400000000000006\n"
     ]
    },
    {
     "name": "stderr",
     "output_type": "stream",
     "text": [
      " 40%|███▉      | 397/1000 [00:11<00:16, 36.37it/s]"
     ]
    },
    {
     "name": "stdout",
     "output_type": "stream",
     "text": [
      "min_cost updated to 57.753846153846155\n"
     ]
    },
    {
     "name": "stderr",
     "output_type": "stream",
     "text": [
      "100%|██████████| 1000/1000 [00:28<00:00, 35.44it/s]\n"
     ]
    }
   ],
   "source": [
    "# 非多线程实现\n",
    "from tqdm import tqdm\n",
    "min_cost = 1000\n",
    "min_path = None\n",
    "\n",
    "for i in tqdm(range(1000)):\n",
    "    now_path_list_with_label_list = [[i,[1]+[0]*(len(i)-2)+[1]]  for i in now_path_list]\n",
    "    while True:\n",
    "        new_path_list_with_label_list, updated_flag = choose_one_combine(now_path_list_with_label_list,rate=[16,8,4,2,1], now_min_cost=min_cost)\n",
    "        if not updated_flag:\n",
    "            break\n",
    "        now_path_list_with_label_list = new_path_list_with_label_list\n",
    "    now_cost = 0\n",
    "    for i in now_path_list_with_label_list:\n",
    "        now_cost += cost_of_circle_path(i[0],i[1])\n",
    "        if now_cost > min_cost:\n",
    "            break\n",
    "    if now_cost < min_cost:\n",
    "        min_cost = now_cost\n",
    "        min_path = now_path_list_with_label_list\n",
    "        print(f'min_cost updated to {min_cost}')\n",
    "   "
   ]
  },
  {
   "cell_type": "code",
   "execution_count": 104,
   "metadata": {},
   "outputs": [
    {
     "name": "stderr",
     "output_type": "stream",
     "text": [
      "100%|██████████| 10000/10000 [05:31<00:00, 30.16it/s]\n"
     ]
    }
   ],
   "source": [
    "for i in tqdm(range(10000)):\n",
    "    now_path_list_with_label_list = [[i,[1]+[0]*(len(i)-2)+[1]]  for i in now_path_list]\n",
    "    while True:\n",
    "        new_path_list_with_label_list, updated_flag = choose_one_combine(now_path_list_with_label_list,rate=[16,8,4,2], now_min_cost=min_cost)\n",
    "        if not updated_flag:\n",
    "            break\n",
    "        now_path_list_with_label_list = new_path_list_with_label_list\n",
    "    now_cost = 0\n",
    "    if len(now_path_list_with_label_list)>3:\n",
    "        continue\n",
    "    for i in now_path_list_with_label_list:\n",
    "        now_cost += cost_of_circle_path(i[0],i[1])\n",
    "        if now_cost > min_cost:\n",
    "            break\n",
    "    if now_cost < min_cost:\n",
    "        min_cost = now_cost\n",
    "        min_path = now_path_list_with_label_list\n",
    "        print(f'min_cost updated to {min_cost}')"
   ]
  },
  {
   "cell_type": "code",
   "execution_count": 105,
   "metadata": {},
   "outputs": [
    {
     "name": "stdout",
     "output_type": "stream",
     "text": [
      "57.753846153846155\n",
      "[[[0, 12, 11, 15, 16, 9, 8, 10, 0], [1, 1, 1, 1, 1, 1, 1, 0, 1]], [[0, 4, 6, 7, 5, 10, 0], [1, 1, 1, 1, 1, 1, 1]], [[0, 13, 1, 2, 3, 14, 0], [1, 1, 1, 1, 1, 1, 1]]]\n"
     ]
    }
   ],
   "source": [
    "print(min_cost)\n",
    "print(min_path) "
   ]
  },
  {
   "cell_type": "code",
   "execution_count": 163,
   "metadata": {},
   "outputs": [
    {
     "name": "stdout",
     "output_type": "stream",
     "text": [
      "11.0\n",
      "13.0\n",
      "9.0\n",
      "20.0\n",
      "-1000.0\n"
     ]
    }
   ],
   "source": [
    "print(adj_matrix[0][4])\n",
    "print(adj_matrix[4][5])\n",
    "print(adj_matrix[5][6])\n",
    "print(adj_matrix[4][6])\n",
    "print(adj_matrix[9][0])"
   ]
  },
  {
   "cell_type": "code",
   "execution_count": 180,
   "metadata": {},
   "outputs": [
    {
     "data": {
      "text/plain": [
       "[[[0, 4, 6, 7, 8, 16, 9, 10, 0], [1, 0, 1, 1, 1, 1, 1, 0, 1]],\n",
       " [[0, 3, 1, 2, 5, 14, 0], [1, 1, 1, 1, 1, 1, 1]],\n",
       " [[0, 4, 10, 15, 11, 12, 13, 0], [1, 1, 1, 1, 1, 1, 1, 1]]]"
      ]
     },
     "execution_count": 180,
     "metadata": {},
     "output_type": "execute_result"
    }
   ],
   "source": [
    "now_path_list_with_label_list"
   ]
  },
  {
   "cell_type": "code",
   "execution_count": 167,
   "metadata": {},
   "outputs": [],
   "source": [
    "all_cost = 0\n",
    "for i in now_path_list_with_label_list:\n",
    "    all_cost += cost_of_circle_path(i[0],i[1])"
   ]
  },
  {
   "cell_type": "code",
   "execution_count": 168,
   "metadata": {},
   "outputs": [
    {
     "data": {
      "text/plain": [
       "90.8923076923077"
      ]
     },
     "execution_count": 168,
     "metadata": {},
     "output_type": "execute_result"
    }
   ],
   "source": [
    "all_cost"
   ]
  },
  {
   "cell_type": "code",
   "execution_count": 176,
   "metadata": {},
   "outputs": [
    {
     "name": "stdout",
     "output_type": "stream",
     "text": [
      "19.323076923076922\n",
      "27.107692307692307\n",
      "20.83076923076923\n"
     ]
    }
   ],
   "source": [
    "print(cost_of_circle_path([0,4,5,2,3,1,13,0],[1,1,1,1,1,1,1,1]))\n",
    "print(cost_of_circle_path([0,4,5,6,7,8,16,10,0],[1,0,0,1,1,1,1,1,1]))\n",
    "print(cost_of_circle_path([0,12,11,15,9,14,0],[1,1,1,1,1,1,1]))"
   ]
  },
  {
   "cell_type": "code",
   "execution_count": 177,
   "metadata": {},
   "outputs": [
    {
     "data": {
      "text/plain": [
       "False"
      ]
     },
     "execution_count": 177,
     "metadata": {},
     "output_type": "execute_result"
    }
   ],
   "source": [
    "check_if_timeout([0,4,5,6,7,8,16,10,0],[1,0,0,1,1,1,1,1,1])"
   ]
  },
  {
   "cell_type": "code",
   "execution_count": 179,
   "metadata": {},
   "outputs": [
    {
     "data": {
      "text/plain": [
       "False"
      ]
     },
     "execution_count": 179,
     "metadata": {},
     "output_type": "execute_result"
    }
   ],
   "source": [
    "check_if_overload([0,4,6,7,8,16,10,0],[1,0,1,1,1,1,1,1])"
   ]
  },
  {
   "cell_type": "code",
   "execution_count": 166,
   "metadata": {},
   "outputs": [
    {
     "data": {
      "text/plain": [
       "67.26153846153846"
      ]
     },
     "execution_count": 166,
     "metadata": {},
     "output_type": "execute_result"
    }
   ],
   "source": [
    "19.323076923076922+27.107692307692307+20.83076923076923"
   ]
  },
  {
   "cell_type": "code",
   "execution_count": 155,
   "metadata": {},
   "outputs": [
    {
     "data": {
      "text/plain": [
       "False"
      ]
     },
     "execution_count": 155,
     "metadata": {},
     "output_type": "execute_result"
    }
   ],
   "source": [
    "check_if_overload([0, 4, 10, 15, 11, 12, 13, 0], [1, 1, 1, 1, 1, 1, 1, 1])"
   ]
  },
  {
   "cell_type": "code",
   "execution_count": 120,
   "metadata": {},
   "outputs": [
    {
     "name": "stdout",
     "output_type": "stream",
     "text": [
      "0.13846153846153847\t11.0\n",
      "0.12307692307692308\t28.0\n",
      "0.09230769230769231\t11.0\n",
      "0.015384615384615385\t20.0\n",
      "0.13846153846153847\t18.0\n",
      "0.2153846153846154\t23.0\n",
      "0.13846153846153847\t21.0\n"
     ]
    },
    {
     "data": {
      "text/plain": [
       "33.292307692307695"
      ]
     },
     "execution_count": 120,
     "metadata": {},
     "output_type": "execute_result"
    }
   ],
   "source": [
    "cost_of_circle_path([0, 4, 9, 8, 10, 11, 12, 0], [1, 1, 1, 1, 1, 1, 1, 1])"
   ]
  },
  {
   "cell_type": "code",
   "execution_count": 117,
   "metadata": {},
   "outputs": [
    {
     "name": "stdout",
     "output_type": "stream",
     "text": [
      "0.8461538461538461\t27.0\n",
      "0.8615384615384616\t27.0\n"
     ]
    },
    {
     "data": {
      "text/plain": [
       "92.21538461538462"
      ]
     },
     "execution_count": 117,
     "metadata": {},
     "output_type": "execute_result"
    }
   ],
   "source": [
    "cost_of_circle_path([0, 1, 0], [1, 1 ,1])"
   ]
  },
  {
   "cell_type": "code",
   "execution_count": 101,
   "metadata": {},
   "outputs": [
    {
     "data": {
      "text/plain": [
       "27.0"
      ]
     },
     "execution_count": 101,
     "metadata": {},
     "output_type": "execute_result"
    }
   ],
   "source": [
    "adj_matrix[0][1]"
   ]
  }
 ],
 "metadata": {
  "kernelspec": {
   "display_name": "data_analyse",
   "language": "python",
   "name": "python3"
  },
  "language_info": {
   "codemirror_mode": {
    "name": "ipython",
    "version": 3
   },
   "file_extension": ".py",
   "mimetype": "text/x-python",
   "name": "python",
   "nbconvert_exporter": "python",
   "pygments_lexer": "ipython3",
   "version": "3.10.13"
  }
 },
 "nbformat": 4,
 "nbformat_minor": 2
}

{
 "cells": [
  {
   "cell_type": "code",
   "execution_count": 1,
   "id": "initial_id",
   "metadata": {
    "ExecuteTime": {
     "end_time": "2024-05-24T03:09:24.137011Z",
     "start_time": "2024-05-24T03:09:24.079132Z"
    },
    "jupyter": {
     "outputs_hidden": true
    }
   },
   "outputs": [
    {
     "name": "stdout",
     "output_type": "stream",
     "text": [
      "[(1, 2, 2.4)]\n",
      "[(2, 3, 7.2)]\n",
      "[(3, 4, 4.7)]\n",
      "[(4, 5, 4.1)]\n",
      "[(5, 6, 8.4)]\n",
      "[(6, 7, 3.1)]\n",
      "[(7, 8, 6.8)]\n",
      "[(8, 9, 6.0)]\n",
      "[(9, 10, 3.9)]\n",
      "[(10, 11, 4.2)]\n",
      "[(11, 12, 4.2)]\n",
      "[(12, 13, 8.2)]\n",
      "[(13, 14, 8.6)]\n",
      "[(14, 15, 7.4)]\n",
      "[(15, 16, 1.6)]\n",
      "[(16, 17, 9.2)]\n",
      "[(17, 18, 5.8)]\n",
      "[(18, 19, 4.1)]\n",
      "[(19, 20, 4.8)]\n",
      "[(20, 21, 7.0)]\n",
      "[(21, 22, 8.2)]\n",
      "[(22, 23, 1.5)]\n",
      "[(23, 24, 5.5)]\n",
      "[(24, 25, 1.0)]\n",
      "[(25, 26, 2.3)]\n",
      "[(26, 27, 1.8)]\n",
      "[(27, 28, 1.0)]\n",
      "[(28, 29, 6.5)]\n",
      "[(29, 30, 9.2)]\n",
      "[(30, 31, 9.4)]\n",
      "[(31, 32, 7.5)]\n",
      "[(32, 33, 5.8)]\n",
      "[(33, 34, 8.9)]\n",
      "[(34, 35, 3.7)]\n",
      "[(35, 36, 8.2)]\n",
      "[(36, 37, 8.9)]\n",
      "[(37, 38, 4.7)]\n",
      "[(38, 39, 8.3)]\n",
      "[(39, 40, 6.5)]\n",
      "[]\n"
     ]
    }
   ],
   "source": [
    "import pandas as pd\n",
    "import networkx as nx\n",
    "import matplotlib.pyplot as plt\n",
    "\n",
    "df = pd.read_excel(\"data/AGV_2.1.xlsx\").fillna(-1)\n",
    "df.columns = [i for i in range(41)]\n",
    "df.index = [i for i in range(1, 41)]\n",
    "G = nx.Graph()\n",
    "\n",
    "# 获取有效数据\n",
    "for i, row in df.iterrows():\n",
    "    l_tmp = []\n",
    "    for idx, val in row.items():\n",
    "        if val != float(-1) and type(val) != type('站点1'):\n",
    "            if G.get_edge_data(i, idx):  # 去重\n",
    "                continue\n",
    "            l_tmp.append((i, idx, val))\n",
    "            G.add_edge(i, idx, weight=val)\n",
    "    print(l_tmp)"
   ]
  },
  {
   "cell_type": "code",
   "execution_count": 2,
   "id": "241fe2ce241f289b",
   "metadata": {
    "ExecuteTime": {
     "end_time": "2024-05-24T03:14:03.464768Z",
     "start_time": "2024-05-24T03:14:02.497101Z"
    },
    "jupyter": {
     "outputs_hidden": false
    }
   },
   "outputs": [
    {
     "data": {
      "image/png": "[encoded data removed]",
      "text/plain": [
       "<Figure size 500x500 with 1 Axes>"
      ]
     },
     "metadata": {},
     "output_type": "display_data"
    }
   ],
   "source": [
    "import matplotlib.pyplot as plt\n",
    "\n",
    "pos = nx.spring_layout(G, iterations=1000) # 力导向布局算法, 可以有效减少边的交叉, 可适当增加 iterations 的次数\n",
    "\n",
    "plt.figure(figsize=(5, 5))\n",
    "\n",
    "nx.draw(G, pos, node_size=40, with_labels=False, font_size=8, node_color='#0081CF')\n",
    "\n",
    "# 标记指定节点\n",
    "nx.draw_networkx_nodes(G, pos, {1 : \"s\"}, node_size=50, node_color='red')\n",
    "nx.draw_networkx_nodes(G, pos, {40: \"e\"}, node_size=50, node_color='blue')\n",
    "\n",
    "df = pd.read_excel(\"data/AGV_2.1.xlsx\", sheet_name=\"无人车数据\").fillna(-1)\n",
    "df.columns = [i for i in range(15)]\n",
    "\n",
    "start_point = [-1]\n",
    "for i, row in df.iterrows():\n",
    "    start_point.append(row[3])\n",
    "    nx.draw_networkx_nodes(G, pos, [row[3]], node_size=50, node_color='#D65DB1')\n",
    "\n",
    "plt.savefig(\"connect_2_1.png\")\n",
    "\n",
    "plt.show()"
   ]
  },
  {
   "cell_type": "code",
   "execution_count": 3,
   "id": "a1f4a917",
   "metadata": {},
   "outputs": [],
   "source": [
    "df = pd.read_excel(\"data/AGV_2.1.xlsx\", sheet_name=\"无人车数据\")\n",
    "df.columns = [i for i in range(15)]\n",
    "\n",
    "car = [0]\n",
    "for i, row in df.iterrows():\n",
    "    car.append(row[1])"
   ]
  },
  {
   "cell_type": "code",
   "execution_count": 4,
   "id": "c489b54f",
   "metadata": {},
   "outputs": [],
   "source": [
    "import numpy as np\n",
    "INF = 0x3f3f3f3f\n",
    "df = pd.read_excel(\"data/AGV_2.1.xlsx\").fillna(-1)\n",
    "df.columns = [i for i in range(41)]\n",
    "df.index = [i for i in range(1, 41)]"
   ]
  },
  {
   "cell_type": "code",
   "execution_count": 5,
   "id": "233fcc7e",
   "metadata": {},
   "outputs": [],
   "source": [
    "d = np.zeros((41, 41))\n",
    "for i in range(41):\n",
    "    for j in range(41):\n",
    "        if i != j:\n",
    "            d[i][j] = INF\n",
    "\n",
    "for i, row in df.iterrows():\n",
    "    for j in range(1, 41):\n",
    "        if row[j] != float(-1):\n",
    "            d[i][j] = row[j]\n",
    "\n",
    "\n",
    "for k in range(1, 41):\n",
    "    for i in range(1, 41):\n",
    "        for j in range(1, 41):\n",
    "            d[i][j] = min(d[i][j], d[i][k] + d[k][j])\n"
   ]
  },
  {
   "cell_type": "code",
   "execution_count": 9,
   "id": "65729543",
   "metadata": {},
   "outputs": [
    {
     "name": "stdout",
     "output_type": "stream",
     "text": [
      "9.88073252424499\n"
     ]
    }
   ],
   "source": [
    "print(d[1][2] / car[1] + d[2][4] / car[3] + d[4][10] / car[5] + d[10][13] / car[8] + d[13][15] / car[9] + d[15][19] / car[11] + d[19][23] / car[13]\n",
    "     + d[23][24] / car[15] + d[24][33] / car[16] + d[33][36] / car[19] + d[36][40] / car[20])"
   ]
  },
  {
   "cell_type": "code",
   "execution_count": null,
   "id": "355bf5c2",
   "metadata": {},
   "outputs": [],
   "source": []
  }
 ],
 "metadata": {
  "kernelspec": {
   "display_name": "Python 3 (ipykernel)",
   "language": "python",
   "name": "python3"
  },
  "language_info": {
   "codemirror_mode": {
    "name": "ipython",
    "version": 3
   },
   "file_extension": ".py",
   "mimetype": "text/x-python",
   "name": "python",
   "nbconvert_exporter": "python",
   "pygments_lexer": "ipython3",
   "version": "3.11.7"
  }
 },
 "nbformat": 4,
 "nbformat_minor": 5
}

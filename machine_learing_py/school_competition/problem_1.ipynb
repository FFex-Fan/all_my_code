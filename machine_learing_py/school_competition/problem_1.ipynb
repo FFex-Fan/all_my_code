{
 "cells": [
  {
   "cell_type": "code",
   "execution_count": 1,
   "id": "a829a24d",
   "metadata": {},
   "outputs": [],
   "source": [
    "import pandas as pd\n",
    "from pulp import LpMinimize, LpProblem, LpVariable, lpSum, PULP_CBC_CMD\n",
    "\n",
    "df1 = pd.read_excel(\"data/1/Ins1_5_10_2.xlsx\").fillna(\"none\")\n",
    "df1.columns = [i for i in range(1, 4)]\n",
    "\n",
    "df2 = pd.read_excel(\"data/1/Ins1_5_10_2.xlsx\", sheet_name=\"包装种类及其所需墨盒\")\n",
    "df2.columns = [i for i in range(1, 3)]\n",
    "\n",
    "num_cartridges = 0 # 墨盒数\n",
    "num_slots = 0 # 插槽数\n",
    "num_packages = 0 # 包装数\n",
    "\n",
    "for i, row in df1.iterrows():\n",
    "    if row[1] != \"none\":\n",
    "        num_packages += 1\n",
    "    if row[2] != \"none\":\n",
    "        num_cartridges += 1\n",
    "    if row[3] != \"none\":\n",
    "        num_slots += 1\n",
    "\n",
    "packages = {} # 包装种类和对应墨盒需求\n",
    "for i, row in df2.iterrows():\n",
    "    l = row[2][1:-1].split(\", \")\n",
    "    tmp = [int(i) for i in l]\n",
    "    packages[row[1]] = tmp"
   ]
  },
  {
   "cell_type": "code",
   "execution_count": 3,
   "id": "ca196119",
   "metadata": {},
   "outputs": [
    {
     "name": "stdout",
     "output_type": "stream",
     "text": [
      "总切换次数: 5.0\n",
      "在 1 的插槽 2 中从墨盒 7 切换\n",
      "在 2 的插槽 1 中从墨盒 5 切换\n",
      "在 3 的插槽 1 中从墨盒 4 切换\n",
      "在 3 的插槽 2 中从墨盒 2 切换\n",
      "在 4 的插槽 2 中从墨盒 8 切换\n"
     ]
    }
   ],
   "source": [
    "# 创建问题实例\n",
    "model = LpProblem(\"Minimize\", LpMinimize)\n",
    "\n",
    "# 添加变量\n",
    "x = LpVariable.dicts(\"cartridge_use\", (range(1, num_packages+1), range(1, num_slots+1), range(1, num_cartridges+1)), cat=\"Binary\")\n",
    "y = LpVariable.dicts(\"switch\", (range(1, num_packages), range(1, num_slots+1), range(1, num_cartridges+1)), cat=\"Binary\")\n",
    "\n",
    "# 目标函数\n",
    "model += lpSum(y[p][s][c] for p in range(1, num_packages) for s in range(1, num_slots+1) for c in range(1, num_cartridges+1))\n",
    "\n",
    "# 约束条件1：每个时刻插槽只能放一个墨盒\n",
    "for p in range(1, num_packages+1):\n",
    "    for s in range(1, num_slots+1):\n",
    "        model += lpSum(x[p][s][c] for c in range(1, num_cartridges+1)) == 1\n",
    "\n",
    "# 约束条件2：每个包装所需的所有墨盒必须放置在插槽中\n",
    "for p in range(1, num_packages+1):\n",
    "    for c in packages[p]:\n",
    "        model += lpSum(x[p][s][c] for s in range(1, num_slots+1)) >= 1\n",
    "\n",
    "# 约束条件3：切换约束\n",
    "for p in range(1, num_packages):\n",
    "    for s in range(1, num_slots+1):\n",
    "        for c in range(1, num_cartridges+1):\n",
    "            model += y[p][s][c] >= x[p][s][c] - x[p+1][s][c]\n",
    "\n",
    "# 解决问题\n",
    "model.solve(PULP_CBC_CMD(msg=0))\n",
    "\n",
    "# 输出结果\n",
    "total_switches = lpSum(y[p][s][c].varValue for p in range(1, num_packages) for s in range(1, num_slots+1) for c in range(1, num_cartridges+1))\n",
    "print(\"总切换次数:\", total_switches)\n",
    "\n",
    "# 打印详细的切换信息\n",
    "for p in range(1, num_packages):\n",
    "    for s in range(1, num_slots+1):\n",
    "        for c in range(1, num_cartridges+1):\n",
    "            if y[p][s][c].varValue > 0:\n",
    "                print(f\"在 {p} 的插槽 {s} 中从墨盒 {c} 切换\")\n",
    "\n",
    "# # 打印墨盒的使用情况\n",
    "# for p in range(1, num_packages+1):\n",
    "#     for s in range(1, num_slots+1):\n",
    "#         for c in range(1, num_cartridges+1):\n",
    "#             if x[p][s][c].varValue > 0:\n",
    "#                 print(f\"包装 {p} 在插槽 {s} 中使用墨盒 {c}\")\n"
   ]
  }
 ],
 "metadata": {
  "kernelspec": {
   "display_name": "Python 3 (ipykernel)",
   "language": "python",
   "name": "python3"
  },
  "language_info": {
   "codemirror_mode": {
    "name": "ipython",
    "version": 3
   },
   "file_extension": ".py",
   "mimetype": "text/x-python",
   "name": "python",
   "nbconvert_exporter": "python",
   "pygments_lexer": "ipython3",
   "version": "3.11.7"
  }
 },
 "nbformat": 4,
 "nbformat_minor": 5
}

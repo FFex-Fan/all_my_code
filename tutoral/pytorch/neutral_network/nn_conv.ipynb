{
 "cells": [
  {
   "cell_type": "markdown",
   "id": "f7d3179f-ee11-403d-9393-efa0b5881bc1",
   "metadata": {},
   "source": [
    "## 卷积操作"
   ]
  },
  {
   "cell_type": "code",
   "execution_count": 1,
   "id": "b74bf9bc-e8e7-46f0-b6f2-597934ad44eb",
   "metadata": {},
   "outputs": [
    {
     "name": "stdout",
     "output_type": "stream",
     "text": [
      "torch.Size([1, 1, 5, 5]) torch.Size([1, 1, 3, 3])\n"
     ]
    }
   ],
   "source": [
    "import torch\n",
    "\n",
    "inp = torch.tensor([[1, 2, 0, 3, 1],\n",
    "                    [0, 1, 2, 3, 1],\n",
    "                    [1, 2, 1, 0, 0],\n",
    "                    [5, 2, 3, 1, 1],\n",
    "                    [2, 1, 0, 1, 1]]).reshape((1, 1, 5, 5))\n",
    "\n",
    "kernel = torch.tensor([[1, 2, 1],\n",
    "                       [0, 1, 0],\n",
    "                       [2, 1, 0]]).reshape((1, 1, 3, 3))\n",
    "print(inp.shape, kernel.shape)"
   ]
  },
  {
   "cell_type": "markdown",
   "id": "addd17b7-db13-4eaf-8441-317b9cfed37d",
   "metadata": {},
   "source": [
    "### stride \n",
    "- 卷积核按照 stride 大小进行向右或向下的移动\n",
    "\n",
    "\n",
    "**输入图像 (5x5)**\n",
    "\n",
    "$$\n",
    "\\begin{bmatrix}\n",
    "1 & 2 & 0 & 3 & 1 \\\\\n",
    "0 & 1 & 2 & 3 & 1 \\\\\n",
    "1 & 2 & 1 & 0 & 0 \\\\\n",
    "5 & 2 & 3 & 1 & 1 \\\\\n",
    "2 & 1 & 0 & 1 & 1 \\\\\n",
    "\\end{bmatrix}\n",
    "$$\n",
    "\n",
    "**卷积核 (3x3)**\n",
    "\n",
    "$$\n",
    "\\begin{bmatrix}\n",
    "1 & 2 & 1 \\\\\n",
    "0 & 1 & 0 \\\\\n",
    "2 & 1 & 0 \\\\\n",
    "\\end{bmatrix}\n",
    "$$\n",
    "\n",
    "**当 Stride = 1 卷积计算如下**\n",
    "\n",
    "$$\n",
    "\\begin{bmatrix}\n",
    "1 & 2 & 0 \\\\\n",
    "0 & 1 & 2 \\\\\n",
    "1 & 2 & 1 \n",
    "\\end{bmatrix}\n",
    "\\odot\n",
    "\\begin{bmatrix}\n",
    "1 & 2 & 1 \\\\\n",
    "0 & 1 & 0 \\\\\n",
    "2 & 1 & 0 \\\\\n",
    "\\end{bmatrix} \\\\ \n",
    "=\\text{sum}(A \\odot B) = \\sum_{i=1}^{3} \\sum_{j=1}^{3} (a_{ij} \\cdot b_{ij})\n",
    "$$\n",
    "$$\n",
    "A_{11} = 1 + 4 + 0 + 0 + 1 + 0 + 2 + 2 + 0 = 10\n",
    "$$\n",
    "\n",
    "**卷积后的输出**\n",
    "\n",
    "$$\n",
    "A =\n",
    "\\begin{bmatrix}\n",
    "10 & 12 & 12 \\\\\n",
    "18 & 16 & 16 \\\\\n",
    "13 & 9 & 3 \\\\\n",
    "\\end{bmatrix}\n",
    "$$\n",
    "\n",
    "\n",
    "**当 Stride = 2 卷积结果如下**\n",
    "$$\n",
    "A =\n",
    "\\begin{bmatrix}\n",
    "10 & 12 \\\\\n",
    "13 & 3 \\\\\n",
    "\\end{bmatrix}\n",
    "$$\n"
   ]
  },
  {
   "cell_type": "code",
   "execution_count": 10,
   "id": "eed5e0b9-a779-4e17-a69e-b1ae56353eb9",
   "metadata": {},
   "outputs": [
    {
     "name": "stdout",
     "output_type": "stream",
     "text": [
      "stride = 1 时，结果为：\n",
      " tensor([[[[10, 12, 12],\n",
      "          [18, 16, 16],\n",
      "          [13,  9,  3]]]])\n",
      "\n",
      "stride = 2 时，结果为：\n",
      " tensor([[[[10, 12],\n",
      "          [13,  3]]]])\n"
     ]
    }
   ],
   "source": [
    "import torch.nn.functional as F\n",
    "\n",
    "\n",
    "out_stride = F.conv2d(inp, kernel, stride=1)\n",
    "print(\"stride = 1 时，结果为：\\n\", out_stride)\n",
    "\n",
    "print()\n",
    "out_stride2 = F.conv2d(inp, kernel, stride=2)\n",
    "print(\"stride = 2 时，结果为：\\n\", out_stride2)"
   ]
  },
  {
   "cell_type": "markdown",
   "id": "8c709200-66a7-4b2f-823a-f4f8fa127b36",
   "metadata": {},
   "source": [
    "### padding\n",
    "\n",
    "- 相当于在原矩阵上再加上套上一个值为 0 的数\n",
    "\n",
    "**输入图像 (5x5)**\n",
    "\n",
    "$$\n",
    "\\begin{bmatrix}\n",
    "1 & 2 & 0 & 3 & 1 \\\\\n",
    "0 & 1 & 2 & 3 & 1 \\\\\n",
    "1 & 2 & 1 & 0 & 0 \\\\\n",
    "5 & 2 & 3 & 1 & 1 \\\\\n",
    "2 & 1 & 0 & 1 & 1\n",
    "\\end{bmatrix}\n",
    "$$\n",
    "\n",
    "**当 padding = 1 时 (6x6)**\n",
    "\n",
    "$$\n",
    "\\begin{bmatrix}\n",
    "0 & 0 & 0 & 0 & 0 & 0 & 0 \\\\\n",
    "0 & 1 & 2 & 0 & 3 & 1 & 0 \\\\\n",
    "0 & 0 & 1 & 2 & 3 & 1 & 0 \\\\\n",
    "0 & 1 & 2 & 1 & 0 & 0 & 0 \\\\\n",
    "0 & 5 & 2 & 3 & 1 & 1 & 0 \\\\\n",
    "0 & 2 & 1 & 0 & 1 & 1 & 0 \\\\\n",
    "0 & 0 & 0 & 0 & 0 & 0 & 0\n",
    "\\end{bmatrix}\n",
    "$$\n",
    "\n",
    "**卷积核 (3x3)**\n",
    "\n",
    "$$\n",
    "\\begin{bmatrix}\n",
    "1 & 2 & 1 \\\\\n",
    "0 & 1 & 0 \\\\\n",
    "2 & 1 & 0 \\\\\n",
    "\\end{bmatrix}\n",
    "$$\n",
    "\n",
    "**卷积计算结果如下**\n",
    "$$\n",
    "\\begin{bmatrix}\n",
    "1 &  3 &  4 & 10 & 8 \\\\\n",
    "5 & 10 & 12 & 12 & 6 \\\\\n",
    "7 & 18 & 16 & 16 & 8 \\\\\n",
    "11 & 13 & 9 &  3 & 4 \\\\\n",
    "14 & 13 & 9 &  7 & 4\n",
    "\\end{bmatrix}\n",
    "$$"
   ]
  },
  {
   "cell_type": "code",
   "execution_count": 3,
   "id": "c2c7eb3b-eafb-4826-9b13-f3ed02381557",
   "metadata": {},
   "outputs": [
    {
     "name": "stdout",
     "output_type": "stream",
     "text": [
      "tensor([[[[ 1,  3,  4, 10,  8],\n",
      "          [ 5, 10, 12, 12,  6],\n",
      "          [ 7, 18, 16, 16,  8],\n",
      "          [11, 13,  9,  3,  4],\n",
      "          [14, 13,  9,  7,  4]]]])\n"
     ]
    }
   ],
   "source": [
    "out_padding = F.conv2d(inp, kernel, stride=1, padding=1)\n",
    "print(out_padding)"
   ]
  }
 ],
 "metadata": {
  "kernelspec": {
   "display_name": "Python 3 (ipykernel)",
   "language": "python",
   "name": "python3"
  },
  "language_info": {
   "codemirror_mode": {
    "name": "ipython",
    "version": 3
   },
   "file_extension": ".py",
   "mimetype": "text/x-python",
   "name": "python",
   "nbconvert_exporter": "python",
   "pygments_lexer": "ipython3",
   "version": "3.9.6"
  }
 },
 "nbformat": 4,
 "nbformat_minor": 5
}

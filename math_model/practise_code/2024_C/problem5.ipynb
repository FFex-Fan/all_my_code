{
 "cells": [
  {
   "cell_type": "code",
   "id": "initial_id",
   "metadata": {
    "collapsed": true,
    "ExecuteTime": {
     "end_time": "2024-09-24T04:02:18.028458Z",
     "start_time": "2024-09-24T04:02:17.120995Z"
    }
   },
   "source": [
    "import time\n",
    "import pandas as pd\n",
    "import numpy as np\n",
    "\n",
    "d1 = pd.read_csv(\"data/材料1.csv\")\n",
    "d2 = pd.read_csv(\"data/材料2.csv\")\n",
    "d3 = pd.read_csv(\"data/材料3.csv\")\n",
    "d4 = pd.read_csv(\"data/材料4.csv\")\n",
    "\n",
    "d1['材料'] = 1\n",
    "d2['材料'] = 2\n",
    "d3['材料'] = 3\n",
    "d4['材料'] = 4\n",
    "\n",
    "pd.set_option('future.no_silent_downcasting', True)\n",
    "\n",
    "data = pd.concat([d1, d2, d3, d4])\n",
    "data['励磁波形'] = data['励磁波形'].replace({'正弦波': 1, '三角波': 2, '梯形波': 3})\n",
    "\n",
    "B_ = data.iloc[:, 4:-1].values\n",
    "\n",
    "lst = ['温度', '频率', \"磁芯损耗\", '励磁波形']\n",
    "for i in range(1024):\n",
    "    lst.append(i)\n",
    "lst.append('材料')\n",
    "data.columns = lst\n",
    "\n",
    "# std_flux = np.std(magnetic_flux_density, axis=1)  # 标准差\n",
    "max_flux = np.max(B_, axis=1)  # 峰值\n",
    "min_flux = np.min(B_, axis=1)\n",
    "delta_flux = max_flux - min_flux\n",
    "sqrt_root = np.mean(B_, axis=1)  # 均方根\n",
    "ave_flux = np.mean(B_, axis=1)\n",
    "sqrt_ave = sqrt_root / ave_flux\n",
    "\n",
    "data['B_max'] = max_flux\n",
    "data['B_min'] = min_flux\n",
    "data['delta_B'] = delta_flux\n",
    "data['B_rms'] = sqrt_root\n",
    "data['B_ave'] = ave_flux\n",
    "data['k_f'] = sqrt_ave\n",
    "\n",
    "filter_data = data[\n",
    "    ['温度', '频率', '励磁波形', '材料', 'B_max', 'B_min', 'delta_B', 'B_rms', 'B_ave', 'k_f', '磁芯损耗']\n",
    "]\n",
    "\n",
    "# to = pd.DataFrame(filter_data)\n",
    "# to.to_csv(\"~/Desktop/data.csv\", index=False)\n",
    "filter_data.head()"
   ],
   "outputs": [
    {
     "data": {
      "text/plain": [
       "   温度     频率 励磁波形  材料     B_max     B_min   delta_B         B_rms  \\\n",
       "0  25  50030    1   1  0.028849 -0.028840  0.057689 -4.003908e-11   \n",
       "1  25  50020    1   1  0.031419 -0.031427  0.062846 -2.539062e-11   \n",
       "2  25  50020    1   1  0.035535 -0.035513  0.071047 -9.765699e-13   \n",
       "3  25  50020    1   1  0.040015 -0.040025  0.080041 -5.859375e-11   \n",
       "4  25  50030    1   1  0.045028 -0.045085  0.090113  4.101562e-11   \n",
       "\n",
       "          B_ave  k_f         磁芯损耗  \n",
       "0 -4.003908e-11  1.0  1997.955250  \n",
       "1 -2.539062e-11  1.0  2427.749830  \n",
       "2 -9.765699e-13  1.0  3332.725760  \n",
       "3 -5.859375e-11  1.0  4502.908007  \n",
       "4  4.101562e-11  1.0  6063.023248  "
      ],
      "text/html": [
       "<div>\n",
       "<style scoped>\n",
       "    .dataframe tbody tr th:only-of-type {\n",
       "        vertical-align: middle;\n",
       "    }\n",
       "\n",
       "    .dataframe tbody tr th {\n",
       "        vertical-align: top;\n",
       "    }\n",
       "\n",
       "    .dataframe thead th {\n",
       "        text-align: right;\n",
       "    }\n",
       "</style>\n",
       "<table border=\"1\" class=\"dataframe\">\n",
       "  <thead>\n",
       "    <tr style=\"text-align: right;\">\n",
       "      <th></th>\n",
       "      <th>温度</th>\n",
       "      <th>频率</th>\n",
       "      <th>励磁波形</th>\n",
       "      <th>材料</th>\n",
       "      <th>B_max</th>\n",
       "      <th>B_min</th>\n",
       "      <th>delta_B</th>\n",
       "      <th>B_rms</th>\n",
       "      <th>B_ave</th>\n",
       "      <th>k_f</th>\n",
       "      <th>磁芯损耗</th>\n",
       "    </tr>\n",
       "  </thead>\n",
       "  <tbody>\n",
       "    <tr>\n",
       "      <th>0</th>\n",
       "      <td>25</td>\n",
       "      <td>50030</td>\n",
       "      <td>1</td>\n",
       "      <td>1</td>\n",
       "      <td>0.028849</td>\n",
       "      <td>-0.028840</td>\n",
       "      <td>0.057689</td>\n",
       "      <td>-4.003908e-11</td>\n",
       "      <td>-4.003908e-11</td>\n",
       "      <td>1.0</td>\n",
       "      <td>1997.955250</td>\n",
       "    </tr>\n",
       "    <tr>\n",
       "      <th>1</th>\n",
       "      <td>25</td>\n",
       "      <td>50020</td>\n",
       "      <td>1</td>\n",
       "      <td>1</td>\n",
       "      <td>0.031419</td>\n",
       "      <td>-0.031427</td>\n",
       "      <td>0.062846</td>\n",
       "      <td>-2.539062e-11</td>\n",
       "      <td>-2.539062e-11</td>\n",
       "      <td>1.0</td>\n",
       "      <td>2427.749830</td>\n",
       "    </tr>\n",
       "    <tr>\n",
       "      <th>2</th>\n",
       "      <td>25</td>\n",
       "      <td>50020</td>\n",
       "      <td>1</td>\n",
       "      <td>1</td>\n",
       "      <td>0.035535</td>\n",
       "      <td>-0.035513</td>\n",
       "      <td>0.071047</td>\n",
       "      <td>-9.765699e-13</td>\n",
       "      <td>-9.765699e-13</td>\n",
       "      <td>1.0</td>\n",
       "      <td>3332.725760</td>\n",
       "    </tr>\n",
       "    <tr>\n",
       "      <th>3</th>\n",
       "      <td>25</td>\n",
       "      <td>50020</td>\n",
       "      <td>1</td>\n",
       "      <td>1</td>\n",
       "      <td>0.040015</td>\n",
       "      <td>-0.040025</td>\n",
       "      <td>0.080041</td>\n",
       "      <td>-5.859375e-11</td>\n",
       "      <td>-5.859375e-11</td>\n",
       "      <td>1.0</td>\n",
       "      <td>4502.908007</td>\n",
       "    </tr>\n",
       "    <tr>\n",
       "      <th>4</th>\n",
       "      <td>25</td>\n",
       "      <td>50030</td>\n",
       "      <td>1</td>\n",
       "      <td>1</td>\n",
       "      <td>0.045028</td>\n",
       "      <td>-0.045085</td>\n",
       "      <td>0.090113</td>\n",
       "      <td>4.101562e-11</td>\n",
       "      <td>4.101562e-11</td>\n",
       "      <td>1.0</td>\n",
       "      <td>6063.023248</td>\n",
       "    </tr>\n",
       "  </tbody>\n",
       "</table>\n",
       "</div>"
      ]
     },
     "execution_count": 157,
     "metadata": {},
     "output_type": "execute_result"
    }
   ],
   "execution_count": 157
  },
  {
   "metadata": {
    "ExecuteTime": {
     "end_time": "2024-09-24T04:02:26.473534Z",
     "start_time": "2024-09-24T04:02:18.029443Z"
    }
   },
   "cell_type": "code",
   "source": [
    "from sklearn.metrics import mean_squared_error\n",
    "from sklearn.model_selection import train_test_split\n",
    "from sklearn.ensemble import ExtraTreesRegressor\n",
    "\n",
    "start_time = time.time()\n",
    "X = data[['温度', '频率', '励磁波形', '材料', 'B_max', 'B_min']]  # 自变量 \n",
    "y = data['磁芯损耗']  # 因变量\n",
    "\n",
    "X_train, X_test, y_train, y_test = train_test_split(X, y, test_size=0.2, random_state=42)\n",
    "\n",
    "model = ExtraTreesRegressor(n_estimators=1000, random_state=42)\n",
    "model.fit(X_train, y_train)\n",
    "\n",
    "y_pred = model.predict(X_test)\n",
    "end_time = time.time()\n",
    "\n",
    "mape = np.mean(np.abs((y_test - y_pred) / y_test)) * 100\n",
    "mse = mean_squared_error(y_test, y_pred)\n",
    "\n",
    "print(f\"mape: {mape:.2f}, mse: {mse:.2f}\")"
   ],
   "id": "344646475e5de62a",
   "outputs": [
    {
     "name": "stdout",
     "output_type": "stream",
     "text": [
      "mape: 9.16, mse: 1365179387.41\n"
     ]
    }
   ],
   "execution_count": 158
  },
  {
   "metadata": {
    "ExecuteTime": {
     "end_time": "2024-09-24T04:02:26.476518Z",
     "start_time": "2024-09-24T04:02:26.474179Z"
    }
   },
   "cell_type": "code",
   "source": [
    "w1, w2 = 1, 1\n",
    "\n",
    "\n",
    "def optim_target(t):\n",
    "    T = t[0]\n",
    "    f = t[1]\n",
    "    wire = t[2]\n",
    "    material = t[3]\n",
    "    B_max = t[4]\n",
    "    B_min = t[5]\n",
    "\n",
    "    x = pd.DataFrame([[T, f, wire, material, B_max, B_min]],\n",
    "                     columns=['温度', '频率', '励磁波形', '材料', 'B_max', 'B_min'])\n",
    "    y_pred = model.predict(x)[0]\n",
    "    if y_pred < 0:\n",
    "        return 1e9\n",
    "    # res = w1 * y_pred - w2 * B_max * f\n",
    "    # return res\n",
    "    return y_pred"
   ],
   "id": "a78a04f304b8b6a3",
   "outputs": [],
   "execution_count": 159
  },
  {
   "metadata": {
    "ExecuteTime": {
     "end_time": "2024-09-24T04:02:26.479248Z",
     "start_time": "2024-09-24T04:02:26.477767Z"
    }
   },
   "cell_type": "code",
   "source": "from pyswarm import pso",
   "id": "c2a25ba1584e535d",
   "outputs": [],
   "execution_count": 160
  },
  {
   "metadata": {
    "ExecuteTime": {
     "end_time": "2024-09-24T04:04:58.170704Z",
     "start_time": "2024-09-24T04:04:30.799821Z"
    }
   },
   "cell_type": "code",
   "source": [
    "min_up = np.max(data['B_min'])\n",
    "min_low = np.min(data['B_min'])\n",
    "\n",
    "max_up = np.max(data['B_max'])\n",
    "max_low = np.min(data['B_max'])\n",
    "\n",
    "f_up = np.max(data['频率'])\n",
    "f_low = np.min(data['频率'])\n",
    "\n",
    "# print(\"B_min: \", min_up, min_low)\n",
    "# print(\"B_max: \", max_up, max_low)\n",
    "# print(\"频率:  \", f_up, f_low)\n",
    "\n",
    "# lb = [25, 50000, 1, 1, 0.01, -0.1]\n",
    "# ub = [90, 500000, 3, 4, 0.1, -0.01] \n",
    "\n",
    "lb = [25, f_low, 1, 1, max_low, min_low]\n",
    "ub = [90, f_up, 3, 4, max_up, min_up]\n",
    "\n",
    "part1 = 1e7\n",
    "part2 = -1e7\n",
    "\n",
    "t_param = None\n",
    "cur = -1\n",
    "\n",
    "start = time.time()\n",
    "for i in range(1):\n",
    "    # Running the PSO optimization\n",
    "    best_params, best_score = pso(\n",
    "        optim_target,\n",
    "        lb,\n",
    "        ub,\n",
    "        swarmsize=50,  # 适当减小粒子群规模\n",
    "        maxiter=50  # 减少最大迭代次数\n",
    "    )\n",
    "\n",
    "    print(f\"Epoch {i + 1}:\")\n",
    "    print(f\"\\tBest Parameters: {best_params}\")\n",
    "    print(f\"\\tBest Score (Objective Function Value): {best_score}\\n\")\n",
    "\n",
    "    res_f = best_params[1]\n",
    "    res_b_max = best_params[4]\n",
    "\n",
    "    x = pd.DataFrame([best_params], columns=['温度', '频率', '励磁波形', '材料', 'B_max', 'B_min'])\n",
    "\n",
    "    # X = data[['温度', '频率', '励磁波形', '材料', 'B_max', 'B_min']]  # 自变量 \n",
    "\n",
    "    f1 = model.predict(x)\n",
    "\n",
    "    # f2 = res_f * res_b_max\n",
    "\n",
    "    # t = f1 - f2\n",
    "    # print(f\"f1: {f1}\")\n",
    "    # print(f\"f2: {res_f * res_b_max}\")\n",
    "    # if (f1 < part1 or f2 > part2) and t < cur:\n",
    "    #     part1 = f1\n",
    "    #     part2 = f2\n",
    "    #     t = cur\n",
    "    #     t_param = best_params\n",
    "    \n",
    "    if f1 < part1:\n",
    "        part1 = f1\n",
    "        t_param = best_params\n",
    "        \n",
    "\n",
    "end = time.time()\n",
    "\n",
    "# print(f\"\\n\\nBest f1: {part1}\\t\\tBest f2: {part2}\")\n",
    "# print(f\"Time taken: {end - start}\")\n",
    "\n",
    "print(part1)\n",
    "print(t_param)\n",
    "\n",
    "print(t_param[1] * t_param[-2])\n",
    "# lb = [40, 100000, 1, 1, 0.02, -0.08]  # 更新后的下界，移除了励磁波形和材料\n",
    "# ub = [70, 300000, 3, 4, 0.08, -0.02]  # 更新后的上界"
   ],
   "id": "7a406f9c879e9a36",
   "outputs": [
    {
     "name": "stdout",
     "output_type": "stream",
     "text": [
      "Stopping search: maximum iterations reached --> 50\n",
      "Epoch 1:\n",
      "\tBest Parameters: [ 9.00000000e+01  4.99900000e+04  1.00000000e+00  4.00000000e+00\n",
      "  1.27224651e-02 -9.36323100e-03]\n",
      "\tBest Score (Objective Function Value): 483.3411502176052\n",
      "\n",
      "[483.34115022]\n",
      "[ 9.00000000e+01  4.99900000e+04  1.00000000e+00  4.00000000e+00\n",
      "  1.27224651e-02 -9.36323100e-03]\n",
      "635.9960326649954\n"
     ]
    }
   ],
   "execution_count": 166
  },
  {
   "metadata": {
    "ExecuteTime": {
     "end_time": "2024-09-24T04:02:53.984650Z",
     "start_time": "2024-09-24T04:02:53.982517Z"
    }
   },
   "cell_type": "code",
   "source": [
    "# print(t_param)\n",
    "label = ['温度', '频率', '励磁波形', '材料', 'B_max', 'B_min']\n",
    "for i in range(len(label)):\n",
    "    print(f\"{label[i]}:  {t_param[i]}\")\n",
    "\n",
    "print(f\"\\nBest f1: {part1[0]}\\t\\tBest f2: {part2}\")\n",
    "# Best f1: [1518.55673455]      Best f2: 3323.2754858418803\n",
    "# Best f1: [1001.54089263]\t    Best f2: 2504.9969226530347\n",
    "# Best f1: [1277.66594449]\t\tBest f2: 3050.8233393661712 \n",
    "#       [ 8.69463990e+01  1.58521354e+05  1.00000000e+00  1.36521605e+00  1.92455039e-02 -1.00000000e-02]"
   ],
   "id": "34f0609e17c7f265",
   "outputs": [
    {
     "name": "stdout",
     "output_type": "stream",
     "text": [
      "温度:  90.0\n",
      "频率:  88762.03229358177\n",
      "励磁波形:  1.0\n",
      "材料:  2.4641384794294336\n",
      "B_max:  0.012691223457035643\n",
      "B_min:  -0.009363231\n",
      "\n",
      "Best f1: 483.77720007390474\t\tBest f2: -10000000.0\n"
     ]
    }
   ],
   "execution_count": 162
  },
  {
   "metadata": {
    "ExecuteTime": {
     "end_time": "2024-09-24T04:02:53.987139Z",
     "start_time": "2024-09-24T04:02:53.985604Z"
    }
   },
   "cell_type": "code",
   "source": [
    "# 温度:  61.89416515106509\n",
    "# 频率:  158685.74171416223\n",
    "# 励磁波形:  3.0\n",
    "# 材料:  3.9999968119434497\n",
    "# B_max:  0.012426007598233561\n",
    "# B_min:  -0.009363231\n",
    "# \n",
    "# Best f1: 975.4730120122099\t\tBest f2: 1971.8302322715083"
   ],
   "id": "a7190bba0944bfe4",
   "outputs": [],
   "execution_count": 163
  },
  {
   "metadata": {
    "ExecuteTime": {
     "end_time": "2024-09-24T04:02:53.989555Z",
     "start_time": "2024-09-24T04:02:53.987673Z"
    }
   },
   "cell_type": "code",
   "source": [
    "\"\"\"\n",
    "温度:  75.09368254920875\n",
    "频率:  141252.31113367257\n",
    "励磁波形:  1.0\n",
    "材料:  1.144178393350389\n",
    "B_max:  0.021811679514510438\n",
    "B_min:  -0.009363231\n",
    "\n",
    "Best 磁芯损耗: 1311.834675964497\t\tBest 传输磁能: 3080.9501411315805\n",
    "\"\"\""
   ],
   "id": "2250ad7f51066e65",
   "outputs": [
    {
     "data": {
      "text/plain": [
       "'\\n温度:  75.09368254920875\\n频率:  141252.31113367257\\n励磁波形:  1.0\\n材料:  1.144178393350389\\nB_max:  0.021811679514510438\\nB_min:  -0.009363231\\n\\nBest 磁芯损耗: 1311.834675964497\\t\\tBest 传输磁能: 3080.9501411315805\\n'"
      ]
     },
     "execution_count": 164,
     "metadata": {},
     "output_type": "execute_result"
    }
   ],
   "execution_count": 164
  },
  {
   "metadata": {
    "ExecuteTime": {
     "end_time": "2024-09-24T04:02:53.991586Z",
     "start_time": "2024-09-24T04:02:53.990157Z"
    }
   },
   "cell_type": "code",
   "source": [
    "# 温度:  72.2521174735506\n",
    "# 频率:  158521.3580036507\n",
    "# 励磁波形:  1.000117723503394\n",
    "# 材料:  3.308706484613077\n",
    "# B_max:  0.01924550614866515\n",
    "# B_min:  -0.009363231\n",
    "# \n",
    "# Best f1: 1403.3749871990028\t\tBest f2: 3050.823770154009"
   ],
   "id": "ae97403d81cf0107",
   "outputs": [],
   "execution_count": 165
  },
  {
   "metadata": {
    "ExecuteTime": {
     "end_time": "2024-09-24T04:02:53.994529Z",
     "start_time": "2024-09-24T04:02:53.993160Z"
    }
   },
   "cell_type": "code",
   "source": "",
   "id": "cbc0108a6abf0baf",
   "outputs": [],
   "execution_count": 165
  }
 ],
 "metadata": {
  "kernelspec": {
   "display_name": "Python 3",
   "language": "python",
   "name": "python3"
  },
  "language_info": {
   "codemirror_mode": {
    "name": "ipython",
    "version": 2
   },
   "file_extension": ".py",
   "mimetype": "text/x-python",
   "name": "python",
   "nbconvert_exporter": "python",
   "pygments_lexer": "ipython2",
   "version": "2.7.6"
  }
 },
 "nbformat": 4,
 "nbformat_minor": 5
}

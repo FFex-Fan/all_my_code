{
 "cells": [
  {
   "metadata": {
    "ExecuteTime": {
     "end_time": "2024-09-24T16:04:51.703894Z",
     "start_time": "2024-09-24T16:04:50.966210Z"
    }
   },
   "cell_type": "code",
   "source": [
    "import pandas as pd\n",
    "import numpy as np\n",
    "\n",
    "d1 = pd.read_csv(\"data/材料1.csv\")\n",
    "d2 = pd.read_csv(\"data/材料2.csv\")\n",
    "d3 = pd.read_csv(\"data/材料3.csv\")\n",
    "d4 = pd.read_csv(\"data/材料4.csv\")\n",
    "\n",
    "d1['材料'] = '材料1'\n",
    "d2['材料'] = '材料2'\n",
    "d3['材料'] = '材料3'\n",
    "d4['材料'] = '材料4'\n",
    "\n",
    "data = pd.concat([d1, d2, d3, d4])\n",
    "\n",
    "\n",
    "magnetic_flux_density = data.iloc[:, 4:-1].values\n",
    "\n",
    "std_flux = np.std(magnetic_flux_density, axis=1)  # 标准差\n",
    "max_flux = np.max(magnetic_flux_density, axis=1)  # 峰值\n",
    "\n",
    "data['标准差'] = std_flux\n",
    "data['峰值'] = max_flux\n",
    "\n",
    "lst = ['温度', '频率', \"磁芯损耗\", '励磁波形']\n",
    "for i in range(1024):\n",
    "    lst.append(i)\n",
    "lst.append('使用材料')\n",
    "lst.append('标准差')\n",
    "lst.append('峰值')\n",
    "data.columns = lst\n",
    "\n",
    "\n",
    "\n",
    "filter_data = data[['温度', '频率', '励磁波形', '使用材料', '标准差', '峰值', '磁芯损耗']]\n",
    "\n",
    "print(filter_data.head())"
   ],
   "id": "e16cd64a86f9a15",
   "outputs": [
    {
     "name": "stdout",
     "output_type": "stream",
     "text": [
      "   温度     频率 励磁波形 使用材料       标准差        峰值         磁芯损耗\n",
      "0  25  50030  正弦波  材料1  0.020400  0.028849  1997.955250\n",
      "1  25  50020  正弦波  材料1  0.022223  0.031419  2427.749830\n",
      "2  25  50020  正弦波  材料1  0.025107  0.035535  3332.725760\n",
      "3  25  50020  正弦波  材料1  0.028263  0.040015  4502.908007\n",
      "4  25  50030  正弦波  材料1  0.031812  0.045028  6063.023248\n"
     ]
    }
   ],
   "execution_count": 4
  },
  {
   "metadata": {
    "ExecuteTime": {
     "end_time": "2024-09-24T16:04:57.205600Z",
     "start_time": "2024-09-24T16:04:51.704876Z"
    }
   },
   "cell_type": "code",
   "source": [
    "from sklearn.preprocessing import LabelEncoder\n",
    "\n",
    "\"\"\" 因果森林\n",
    "\"\"\"\n",
    "import numpy as np\n",
    "from sklearn.model_selection import train_test_split\n",
    "from econml.dml import CausalForestDML\n",
    "from sklearn.ensemble import RandomForestRegressor\n",
    "\n",
    "# 第一步：加载已经合并并清理好的数据\n",
    "data = filter_data.copy()\n",
    "\n",
    "# 删除包含 NaN 值的行\n",
    "data = data.dropna()\n",
    "\n",
    "# 对励磁波形和材料进行标签编码\n",
    "label_encoder_waveform = LabelEncoder()\n",
    "label_encoder_material = LabelEncoder()\n",
    "\n",
    "data['励磁波形'] = label_encoder_waveform.fit_transform(data['励磁波形'])\n",
    "data['材料'] = label_encoder_material.fit_transform(data['使用材料'])\n",
    "\n",
    "lst_t = ['励磁波形', '材料', '温度']\n",
    "X = data[['标准差', '峰值']]  # 自变量\n",
    "T = data[lst_t]\n",
    "y = data['磁芯损耗']  # 因变量\n",
    "\n",
    "# 第三步：将数据分为训练集和测试集\n",
    "X_train, X_test, T_train, T_test, y_train, y_test = train_test_split(X, T, y, test_size=0.2, random_state=42)\n",
    "\n",
    "y_test = y_test.ravel()\n",
    "y_train = y_train.ravel()\n",
    "\n",
    "# 定义因果森林模型\n",
    "# 使用随机森林回归器作为模型来拟合处理变量 (T) 和结果变量 (Y)\n",
    "model_t = RandomForestRegressor(n_estimators=100, min_samples_leaf=5)\n",
    "model_y = RandomForestRegressor(n_estimators=100, min_samples_leaf=5)\n",
    "\n",
    "# 初始化因果森林模型\n",
    "causal_forest = CausalForestDML(model_y=model_y, model_t=model_t, discrete_treatment=False)\n",
    "\n",
    "# 将温度作为处理变量 (T)，X_train 作为协变量，y_train 作为结果\n",
    "# T_train = X_train['温度']  # 选择一个作为处理变量\n",
    "# X_train_new = X_train[['励磁波形', '材料', '标准差', '峰值']]  # 其他特征作为协变量\n",
    "\n",
    "# 训练因果森林模型\n",
    "causal_forest.fit(Y=y_train, T=T_train, X=X_train)\n",
    "\n",
    "# 第三步：估计处理效应\n",
    "# 对测试集进行个体处理效应估计\n",
    "\n",
    "treatment_effects = causal_forest.effect(X_test)\n",
    "\n",
    "# y_pred = causal_forest.model_y_.predict(X_test)\n",
    "\n",
    "\n",
    "# 输出个体化处理效应\n",
    "s = \"\"\n",
    "for i in lst_t:\n",
    "    s += i\n",
    "\n",
    "# 计算均方误差（MSE）\n",
    "# mse = mean_squared_error(y_test, y_pred)\n",
    "# print(f\"{s} 均方误差 (MSE): {mse}\")\n",
    "\n",
    "\"\"\"\n",
    "处理效应（Treatment Effect） 是在因果推断中用于量化某种干预（或处理）对结果的影响。处理效应可以理解为：在其他条件相同的情况下，某个处理或干预的引入（例如温度的升高、使用不同的材料、采取某种政策等）对目标结果（例如磁芯损耗、经济增长、治疗效果等）造成的影响。\n",
    "\n",
    "\"\"\"\n",
    "\n",
    "print(f\"{s} 对磁芯损耗的处理效应:\")\n",
    "print(treatment_effects)\n",
    "# \n",
    "\n",
    "df = pd.DataFrame(treatment_effects)\n",
    "df.to_excel(f\"~/Desktop/{s}_对磁芯损耗的处理效应.xlsx\")\n"
   ],
   "id": "37fc972da910858f",
   "outputs": [
    {
     "name": "stderr",
     "output_type": "stream",
     "text": [
      "IProgress not found. Please update jupyter and ipywidgets. See https://ipywidgets.readthedocs.io/en/stable/user_install.html\n",
      "Series.ravel is deprecated. The underlying array is already 1D, so ravel is not necessary.  Use `to_numpy()` for conversion to a numpy array instead.\n",
      "Series.ravel is deprecated. The underlying array is already 1D, so ravel is not necessary.  Use `to_numpy()` for conversion to a numpy array instead.\n"
     ]
    },
    {
     "name": "stdout",
     "output_type": "stream",
     "text": [
      "励磁波形材料温度 对磁芯损耗的处理效应:\n",
      "[   2010.71212185  -90705.51527831 -167840.89604005 ... -235773.80976249\n",
      " -145871.96669985 -373071.92964046]\n"
     ]
    },
    {
     "name": "stderr",
     "output_type": "stream",
     "text": [
      "A scalar was specified but there are multiple treatments; the same value will be used for each treatment.  Consider specifyingall treatments, or using the const_marginal_effect method.\n"
     ]
    }
   ],
   "execution_count": 5
  },
  {
   "metadata": {},
   "cell_type": "markdown",
   "source": "## XGBOOST 回归",
   "id": "e1af438aece9f75d"
  },
  {
   "metadata": {
    "ExecuteTime": {
     "end_time": "2024-09-24T16:04:57.208393Z",
     "start_time": "2024-09-24T16:04:57.206352Z"
    }
   },
   "cell_type": "code",
   "source": [
    "# from matplotlib import pyplot as plt\n",
    "# import matplotlib.font_manager as fm\n",
    "# import xgboost as xgb\n",
    "# from sklearn.metrics import mean_squared_error\n",
    "# from sklearn.model_selection import train_test_split\n",
    "# from sklearn.inspection import PartialDependenceDisplay\n",
    "# \n",
    "# \n",
    "# \n",
    "# label_encoder_waveform = LabelEncoder()\n",
    "# label_encoder_material = LabelEncoder()\n",
    "# \n",
    "# data['波形_encoded'] = label_encoder_waveform.fit_transform(data['波形'])\n",
    "# data['材料_encoded'] = label_encoder_material.fit_transform(data['材料'])\n",
    "# \n",
    "# X = data[['温度', '波形_encoded', '材料_encoded']]  # 自变量 \n",
    "# y = data['损耗']  # 因变量\n",
    "# \n",
    "# # 使用 train_test_split 划分数据，80% 为训练集，20% 为测试集\n",
    "# X_train, X_test, y_train, y_test = train_test_split(X, y, test_size=0.2, random_state=42)\n",
    "# \n",
    "# # print(f\"训练集大小: {X_train.shape}, 测试集大小: {X_test.shape}\")\n",
    "# \n",
    "# font_path = '/System/Library/Fonts/Hiragino Sans GB.ttc'\n",
    "# my_font = fm.FontProperties(fname=font_path)\n",
    "# \n",
    "# plt.rcParams['font.family'] = my_font.get_name()\n",
    "# plt.rcParams['axes.unicode_minus'] = False  # 解决负号显示为方块的问题\n",
    "# \n",
    "# # 初始化 XGBoost 模型\n",
    "# xgboost_model = xgb.XGBRegressor()\n",
    "# \n",
    "# # 训练模型\n",
    "# xgboost_model.fit(X_train, y_train)\n",
    "# \n",
    "# # 在测试集上预测\n",
    "# y_pred = xgboost_model.predict(X_test)\n",
    "# \n",
    "# # 计算均方误差\n",
    "# mse = mean_squared_error(y_test, y_pred)\n",
    "# print(f\"XGBoost 回归的均方误差: {mse}\")\n",
    "# \n",
    "# # 查看特征的重要性\n",
    "# xgb.plot_importance(xgboost_model)\n",
    "# plt.title('特征重要性', fontproperties=my_font)\n",
    "# plt.show()\n",
    "# \n",
    "# importance = xgboost_model.get_booster().get_score(importance_type='gain')\n",
    "# print(\"特征重要性 (Gain):\", importance)\n"
   ],
   "id": "995b5a669af8311b",
   "outputs": [],
   "execution_count": 6
  },
  {
   "metadata": {
    "ExecuteTime": {
     "end_time": "2024-09-24T16:04:57.210742Z",
     "start_time": "2024-09-24T16:04:57.209439Z"
    }
   },
   "cell_type": "code",
   "source": [
    "# # 生成部分依赖图，展示温度和频率对磁芯损耗的影响\n",
    "# PartialDependenceDisplay.from_estimator(xgboost_model, X_train, [0, 1, 2], feature_names=['温度', '材料', '波形'])\n",
    "# plt.show()"
   ],
   "id": "1093a3b8a95aa0f4",
   "outputs": [],
   "execution_count": 7
  },
  {
   "metadata": {
    "ExecuteTime": {
     "end_time": "2024-09-24T16:04:57.212406Z",
     "start_time": "2024-09-24T16:04:57.211282Z"
    }
   },
   "cell_type": "code",
   "source": "",
   "id": "f268c7de39c00bef",
   "outputs": [],
   "execution_count": 7
  }
 ],
 "metadata": {
  "kernelspec": {
   "display_name": "Python 3",
   "language": "python",
   "name": "python3"
  },
  "language_info": {
   "codemirror_mode": {
    "name": "ipython",
    "version": 2
   },
   "file_extension": ".py",
   "mimetype": "text/x-python",
   "name": "python",
   "nbconvert_exporter": "python",
   "pygments_lexer": "ipython2",
   "version": "2.7.6"
  }
 },
 "nbformat": 4,
 "nbformat_minor": 5
}

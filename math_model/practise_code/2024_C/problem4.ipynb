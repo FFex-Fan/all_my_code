{
 "cells": [
  {
   "cell_type": "code",
   "id": "initial_id",
   "metadata": {
    "collapsed": true,
    "ExecuteTime": {
     "end_time": "2024-09-23T10:30:53.508251Z",
     "start_time": "2024-09-23T10:30:52.650184Z"
    }
   },
   "source": [
    "import time\n",
    "\n",
    "import pandas as pd\n",
    "import numpy as np\n",
    "\n",
    "d1 = pd.read_csv(\"data/材料1.csv\")\n",
    "d2 = pd.read_csv(\"data/材料2.csv\")\n",
    "d3 = pd.read_csv(\"data/材料3.csv\")\n",
    "d4 = pd.read_csv(\"data/材料4.csv\")\n",
    "\n",
    "d1['材料'] = 1\n",
    "d2['材料'] = 2\n",
    "d3['材料'] = 3\n",
    "d4['材料'] = 4\n",
    "\n",
    "data = pd.concat([d1, d2, d3, d4])\n",
    "data['励磁波形'] = data['励磁波形'].replace({'正弦波': 1, '三角波': 2, '梯形波': 3})\n",
    "\n",
    "magnetic_flux_density = data.iloc[:, 4:-1].values\n",
    "\n",
    "lst = ['温度', '频率', \"磁芯损耗\", '励磁波形']\n",
    "for i in range(1024):\n",
    "    lst.append(i)\n",
    "lst.append('材料')\n",
    "data.columns = lst\n",
    "\n",
    "# std_flux = np.std(magnetic_flux_density, axis=1)  # 标准差\n",
    "max_flux = np.max(magnetic_flux_density, axis=1)  # 峰值\n",
    "min_flux = np.min(magnetic_flux_density, axis=1)\n",
    "delta_flux = max_flux - min_flux\n",
    "sqrt_root = np.mean(magnetic_flux_density, axis=1)  # 均方根\n",
    "ave_flux = np.mean(magnetic_flux_density, axis=1)\n",
    "sqrt_ave = sqrt_root / ave_flux\n",
    "\n",
    "data['B_max'] = max_flux\n",
    "data['B_min'] = min_flux\n",
    "data['delta_B'] = delta_flux\n",
    "data['B_rms'] = sqrt_root\n",
    "data['B_ave'] = ave_flux\n",
    "data['k_f'] = sqrt_ave\n",
    "\n",
    "filter_data = data[['温度', '频率', '励磁波形', '材料', 'B_max', 'B_min', 'delta_B', 'B_rms', 'B_ave', 'k_f', '磁芯损耗']]\n",
    "filter_data.head()"
   ],
   "outputs": [
    {
     "name": "stderr",
     "output_type": "stream",
     "text": [
      "/var/folders/gy/6wf0tc3n7276h9vd9dqcpkvw0000gn/T/ipykernel_1646/3910527991.py:17: FutureWarning: Downcasting behavior in `replace` is deprecated and will be removed in a future version. To retain the old behavior, explicitly call `result.infer_objects(copy=False)`. To opt-in to the future behavior, set `pd.set_option('future.no_silent_downcasting', True)`\n",
      "  data['励磁波形'] = data['励磁波形'].replace({'正弦波': 1, '三角波': 2, '梯形波': 3})\n"
     ]
    },
    {
     "data": {
      "text/plain": [
       "   温度     频率  励磁波形  材料     B_max     B_min   delta_B         B_rms  \\\n",
       "0  25  50030     1   1  0.028849 -0.028840  0.057689 -4.003908e-11   \n",
       "1  25  50020     1   1  0.031419 -0.031427  0.062846 -2.539062e-11   \n",
       "2  25  50020     1   1  0.035535 -0.035513  0.071047 -9.765699e-13   \n",
       "3  25  50020     1   1  0.040015 -0.040025  0.080041 -5.859375e-11   \n",
       "4  25  50030     1   1  0.045028 -0.045085  0.090113  4.101562e-11   \n",
       "\n",
       "          B_ave  k_f         磁芯损耗  \n",
       "0 -4.003908e-11  1.0  1997.955250  \n",
       "1 -2.539062e-11  1.0  2427.749830  \n",
       "2 -9.765699e-13  1.0  3332.725760  \n",
       "3 -5.859375e-11  1.0  4502.908007  \n",
       "4  4.101562e-11  1.0  6063.023248  "
      ],
      "text/html": [
       "<div>\n",
       "<style scoped>\n",
       "    .dataframe tbody tr th:only-of-type {\n",
       "        vertical-align: middle;\n",
       "    }\n",
       "\n",
       "    .dataframe tbody tr th {\n",
       "        vertical-align: top;\n",
       "    }\n",
       "\n",
       "    .dataframe thead th {\n",
       "        text-align: right;\n",
       "    }\n",
       "</style>\n",
       "<table border=\"1\" class=\"dataframe\">\n",
       "  <thead>\n",
       "    <tr style=\"text-align: right;\">\n",
       "      <th></th>\n",
       "      <th>温度</th>\n",
       "      <th>频率</th>\n",
       "      <th>励磁波形</th>\n",
       "      <th>材料</th>\n",
       "      <th>B_max</th>\n",
       "      <th>B_min</th>\n",
       "      <th>delta_B</th>\n",
       "      <th>B_rms</th>\n",
       "      <th>B_ave</th>\n",
       "      <th>k_f</th>\n",
       "      <th>磁芯损耗</th>\n",
       "    </tr>\n",
       "  </thead>\n",
       "  <tbody>\n",
       "    <tr>\n",
       "      <th>0</th>\n",
       "      <td>25</td>\n",
       "      <td>50030</td>\n",
       "      <td>1</td>\n",
       "      <td>1</td>\n",
       "      <td>0.028849</td>\n",
       "      <td>-0.028840</td>\n",
       "      <td>0.057689</td>\n",
       "      <td>-4.003908e-11</td>\n",
       "      <td>-4.003908e-11</td>\n",
       "      <td>1.0</td>\n",
       "      <td>1997.955250</td>\n",
       "    </tr>\n",
       "    <tr>\n",
       "      <th>1</th>\n",
       "      <td>25</td>\n",
       "      <td>50020</td>\n",
       "      <td>1</td>\n",
       "      <td>1</td>\n",
       "      <td>0.031419</td>\n",
       "      <td>-0.031427</td>\n",
       "      <td>0.062846</td>\n",
       "      <td>-2.539062e-11</td>\n",
       "      <td>-2.539062e-11</td>\n",
       "      <td>1.0</td>\n",
       "      <td>2427.749830</td>\n",
       "    </tr>\n",
       "    <tr>\n",
       "      <th>2</th>\n",
       "      <td>25</td>\n",
       "      <td>50020</td>\n",
       "      <td>1</td>\n",
       "      <td>1</td>\n",
       "      <td>0.035535</td>\n",
       "      <td>-0.035513</td>\n",
       "      <td>0.071047</td>\n",
       "      <td>-9.765699e-13</td>\n",
       "      <td>-9.765699e-13</td>\n",
       "      <td>1.0</td>\n",
       "      <td>3332.725760</td>\n",
       "    </tr>\n",
       "    <tr>\n",
       "      <th>3</th>\n",
       "      <td>25</td>\n",
       "      <td>50020</td>\n",
       "      <td>1</td>\n",
       "      <td>1</td>\n",
       "      <td>0.040015</td>\n",
       "      <td>-0.040025</td>\n",
       "      <td>0.080041</td>\n",
       "      <td>-5.859375e-11</td>\n",
       "      <td>-5.859375e-11</td>\n",
       "      <td>1.0</td>\n",
       "      <td>4502.908007</td>\n",
       "    </tr>\n",
       "    <tr>\n",
       "      <th>4</th>\n",
       "      <td>25</td>\n",
       "      <td>50030</td>\n",
       "      <td>1</td>\n",
       "      <td>1</td>\n",
       "      <td>0.045028</td>\n",
       "      <td>-0.045085</td>\n",
       "      <td>0.090113</td>\n",
       "      <td>4.101562e-11</td>\n",
       "      <td>4.101562e-11</td>\n",
       "      <td>1.0</td>\n",
       "      <td>6063.023248</td>\n",
       "    </tr>\n",
       "  </tbody>\n",
       "</table>\n",
       "</div>"
      ]
     },
     "execution_count": 55,
     "metadata": {},
     "output_type": "execute_result"
    }
   ],
   "execution_count": 55
  },
  {
   "metadata": {
    "ExecuteTime": {
     "end_time": "2024-09-23T10:30:53.511019Z",
     "start_time": "2024-09-23T10:30:53.509194Z"
    }
   },
   "cell_type": "code",
   "source": [
    "# from sklearn.model_selection import train_test_split\n",
    "# import statsmodels.api as sm\n",
    "# \n",
    "# \n",
    "# X = data[['温度', '频率', '励磁波形', '材料', 'B_max', 'B_min', 'delta_B', 'B_rms', 'B_ave', 'k_f']]  # 自变量 \n",
    "# y = data['磁芯损耗'] # 因变量\n",
    "# \n",
    "# # 使用 train_test_split 划分数据，80% 为训练集，20% 为测试集\n",
    "# X_train, X_test, y_train, y_test = train_test_split(X, y, test_size=0.3, random_state=42)\n",
    "# \n",
    "# \n",
    "# # 添加常数项（拦截项）\n",
    "# X = sm.add_constant(X)\n",
    "# \n",
    "# # 使用最小二乘法进行线性回归拟合\n",
    "# model = sm.OLS(y_train, X_train).fit()\n",
    "# \n",
    "# # 输出拟合结果总结\n",
    "# print(model.summary())"
   ],
   "id": "2fbdeea050f9921b",
   "outputs": [],
   "execution_count": 56
  },
  {
   "metadata": {
    "ExecuteTime": {
     "end_time": "2024-09-23T10:30:53.513965Z",
     "start_time": "2024-09-23T10:30:53.511514Z"
    }
   },
   "cell_type": "code",
   "source": [
    "\"\"\"\n",
    "                            OLS Regression Results                            \n",
    "==============================================================================\n",
    "Dep. Variable:                   磁芯损耗   R-squared:                       0.631\n",
    "Model:                            OLS   Adj. R-squared:                  0.631\n",
    "Method:                 Least Squares   F-statistic:                     2117.\n",
    "Date:                Sun, 22 Sep 2024   Prob (F-statistic):               0.00\n",
    "Time:                        20:21:28   Log-Likelihood:            -1.1949e+05\n",
    "No. Observations:                8680   AIC:                         2.390e+05\n",
    "Df Residuals:                    8672   BIC:                         2.391e+05\n",
    "Df Model:                           7                                         \n",
    "Covariance Type:            nonrobust                                         \n",
    "==============================================================================\n",
    "                 coef    std err          t      P>|t|      [0.025      0.975]\n",
    "------------------------------------------------------------------------------\n",
    "温度         -1373.2140    101.870    -13.480      0.000   -1572.903   -1173.525\n",
    "频率             1.2554      0.022     56.752      0.000       1.212       1.299\n",
    "励磁波形       -3368.0274   3481.622     -0.967      0.333   -1.02e+04    3456.779\n",
    "材料          1.528e+04   2228.033      6.857      0.000    1.09e+04    1.96e+04\n",
    "B_max       2.625e+07   1.97e+06     13.330      0.000    2.24e+07    3.01e+07\n",
    "B_min       2.471e+07   1.97e+06     12.528      0.000    2.08e+07    2.86e+07\n",
    "delta_B     1.543e+06   1.39e+04    110.849      0.000    1.52e+06    1.57e+06\n",
    "B_rms       3.443e+09   5.43e+10      0.063      0.949   -1.03e+11     1.1e+11\n",
    "B_ave       3.443e+09   5.43e+10      0.063      0.949   -1.03e+11     1.1e+11\n",
    "k_f        -3.654e+05    1.2e+04    -30.554      0.000   -3.89e+05   -3.42e+05\n",
    "==============================================================================\n",
    "Omnibus:                     6044.553   Durbin-Watson:                   1.977\n",
    "Prob(Omnibus):                  0.000   Jarque-Bera (JB):           147571.919\n",
    "Skew:                           3.028   Prob(JB):                         0.00\n",
    "Kurtosis:                      22.270   Cond. No.                     3.42e+27\n",
    "==============================================================================\n",
    "\n",
    "Notes:\n",
    "[1] Standard Errors assume that the covariance matrix of the errors is correctly specified.\n",
    "[2] The smallest eigenvalue is 3.85e-41. This might indicate that there are\n",
    "strong multicollinearity problems or that the design matrix is singular.\n",
    "\"\"\"\n"
   ],
   "id": "44d1e8624f4905ba",
   "outputs": [
    {
     "data": {
      "text/plain": [
       "'\\n                            OLS Regression Results                            \\n==============================================================================\\nDep. Variable:                   磁芯损耗   R-squared:                       0.631\\nModel:                            OLS   Adj. R-squared:                  0.631\\nMethod:                 Least Squares   F-statistic:                     2117.\\nDate:                Sun, 22 Sep 2024   Prob (F-statistic):               0.00\\nTime:                        20:21:28   Log-Likelihood:            -1.1949e+05\\nNo. Observations:                8680   AIC:                         2.390e+05\\nDf Residuals:                    8672   BIC:                         2.391e+05\\nDf Model:                           7                                         \\nCovariance Type:            nonrobust                                         \\n==============================================================================\\n                 coef    std err          t      P>|t|      [0.025      0.975]\\n------------------------------------------------------------------------------\\n温度         -1373.2140    101.870    -13.480      0.000   -1572.903   -1173.525\\n频率             1.2554      0.022     56.752      0.000       1.212       1.299\\n励磁波形       -3368.0274   3481.622     -0.967      0.333   -1.02e+04    3456.779\\n材料          1.528e+04   2228.033      6.857      0.000    1.09e+04    1.96e+04\\nB_max       2.625e+07   1.97e+06     13.330      0.000    2.24e+07    3.01e+07\\nB_min       2.471e+07   1.97e+06     12.528      0.000    2.08e+07    2.86e+07\\ndelta_B     1.543e+06   1.39e+04    110.849      0.000    1.52e+06    1.57e+06\\nB_rms       3.443e+09   5.43e+10      0.063      0.949   -1.03e+11     1.1e+11\\nB_ave       3.443e+09   5.43e+10      0.063      0.949   -1.03e+11     1.1e+11\\nk_f        -3.654e+05    1.2e+04    -30.554      0.000   -3.89e+05   -3.42e+05\\n==============================================================================\\nOmnibus:                     6044.553   Durbin-Watson:                   1.977\\nProb(Omnibus):                  0.000   Jarque-Bera (JB):           147571.919\\nSkew:                           3.028   Prob(JB):                         0.00\\nKurtosis:                      22.270   Cond. No.                     3.42e+27\\n==============================================================================\\n\\nNotes:\\n[1] Standard Errors assume that the covariance matrix of the errors is correctly specified.\\n[2] The smallest eigenvalue is 3.85e-41. This might indicate that there are\\nstrong multicollinearity problems or that the design matrix is singular.\\n'"
      ]
     },
     "execution_count": 57,
     "metadata": {},
     "output_type": "execute_result"
    }
   ],
   "execution_count": 57
  },
  {
   "metadata": {
    "ExecuteTime": {
     "end_time": "2024-09-23T10:30:53.516311Z",
     "start_time": "2024-09-23T10:30:53.515039Z"
    }
   },
   "cell_type": "code",
   "source": [
    "# new_data = sm.add_constant(X_test)\n",
    "# y_pred = model.predict(new_data)\n",
    "# mape = np.mean(np.abs((y_test - y_pred) / y_test)) * 100\n",
    "# \n",
    "# print(mape)"
   ],
   "id": "f506add5e2090f14",
   "outputs": [],
   "execution_count": 58
  },
  {
   "metadata": {
    "ExecuteTime": {
     "end_time": "2024-09-23T10:30:59.649748Z",
     "start_time": "2024-09-23T10:30:53.516807Z"
    }
   },
   "cell_type": "code",
   "source": [
    "from sklearn.metrics import mean_squared_error\n",
    "from xgboost import XGBRegressor\n",
    "from sklearn.model_selection import train_test_split\n",
    "\n",
    "X = data[['温度', '频率', '励磁波形', '材料', 'B_max', 'B_min', 'delta_B', 'B_rms', 'B_ave', 'k_f']]  # 自变量 \n",
    "y = data['磁芯损耗'] # 因变量\n",
    "\n",
    "# 使用 train_test_split 划分数据，80% 为训练集，20% 为测试集\n",
    "X_train, X_test, y_train, y_test = train_test_split(X, y, test_size=0.3, random_state=42)\n",
    "\n",
    "model = XGBRegressor(n_estimators=10000, random_state=42)\n",
    "\n",
    "model.fit(X_train, y_train)\n",
    "\n",
    "y_pred = model.predict(X_test)\n",
    "\n",
    "mape = np.mean(np.abs((y_test - y_pred) / y_test)) * 100\n",
    "\n",
    "print(mape)\n",
    "\n"
   ],
   "id": "f4b9f1095b42ccc6",
   "outputs": [
    {
     "name": "stdout",
     "output_type": "stream",
     "text": [
      "18.871040321678187\n"
     ]
    }
   ],
   "execution_count": 59
  },
  {
   "metadata": {
    "ExecuteTime": {
     "end_time": "2024-09-23T10:31:27.064072Z",
     "start_time": "2024-09-23T10:30:59.650615Z"
    }
   },
   "cell_type": "code",
   "source": [
    "from sklearn.ensemble import RandomForestRegressor\n",
    "import time\n",
    "\n",
    "start_time = time.time()\n",
    "X = data[['温度', '频率', '励磁波形', '材料', 'B_max', 'B_min', 'delta_B', 'B_rms', 'B_ave', 'k_f']]  # 自变量 \n",
    "y = data['磁芯损耗'] # 因变量\n",
    "\n",
    "X_train, X_test, y_train, y_test = train_test_split(X, y, test_size=0.1, random_state=42)\n",
    "\n",
    "model = RandomForestRegressor(n_estimators=1000, random_state=42)\n",
    "model.fit(X_train, y_train)\n",
    "\n",
    "y_pred = model.predict(X_test)\n",
    "\n",
    "mape = np.mean(np.abs((y_test - y_pred) / y_test)) * 100\n",
    "\n",
    "end_time = time.time()\n",
    "print(mape)\n",
    "print(\"时间花销：\", end_time - start_time)"
   ],
   "id": "e83fa195ad741f97",
   "outputs": [
    {
     "name": "stdout",
     "output_type": "stream",
     "text": [
      "10.96280614124021\n",
      "时间花销： 27.410671949386597\n"
     ]
    }
   ],
   "execution_count": 60
  },
  {
   "metadata": {
    "ExecuteTime": {
     "end_time": "2024-09-23T10:31:27.066853Z",
     "start_time": "2024-09-23T10:31:27.064941Z"
    }
   },
   "cell_type": "code",
   "source": [
    "# import numpy as np\n",
    "# import matplotlib.pyplot as plt\n",
    "# from sklearn.preprocessing import PolynomialFeatures\n",
    "# from sklearn.linear_model import LinearRegression\n",
    "# \n",
    "# start_time = time.time()\n",
    "# # 定义特征和目标列\n",
    "# features = ['温度', '频率', '励磁波形', '材料', 'B_max', 'B_min', 'delta_B', 'B_rms', 'B_ave', 'k_f']\n",
    "# target = '磁芯损耗'\n",
    "# \n",
    "# # 从归一化后的数据中提取特征和目标\n",
    "# X = filter_data[features].values\n",
    "# y = filter_data[target].values\n",
    "# \n",
    "# X_train, X_test, y_train, y_test = train_test_split(X, y, test_size=0.3, random_state=42)\n",
    "# \n",
    "# # 定义多项式的阶数为 2\n",
    "# poly_degree = 3\n",
    "# \n",
    "# # 创建多项式特征转换器，用于将特征转换为多项式形式\n",
    "# polynomial_features = PolynomialFeatures(degree=poly_degree, include_bias=False)\n",
    "# \n",
    "# # 将特征转换为多项式特征\n",
    "# X_train_poly = polynomial_features.fit_transform(X_train)\n",
    "# X_test_poly = polynomial_features.fit_transform(X_test)\n",
    "# \n",
    "# # 使用线性回归模型拟合多项式特征\n",
    "# model = LinearRegression()\n",
    "# model.fit(X_train_poly, y_train)\n",
    "# \n",
    "# y_pred = model.predict(X_test_poly)\n",
    "# \n",
    "# mape = np.mean(np.abs((y_test - y_pred) / y_test)) * 100\n",
    "# \n",
    "# end_time = time.time()\n",
    "# print(mape)\n",
    "# print(\"时间花销：\", end_time - start_time)\n",
    "# \n",
    "# \n",
    "# # 输出拟合后的模型参数（即多项式的系数）\n",
    "# # print(\"拟合后的多项式系数：\", model.coef_)\n",
    "# # print(\"拟合后的截距：\", model.intercept_)\n",
    "# # \n",
    "# # # 输出特征名称及其对应的多项式系数\n",
    "# # feature_names = polynomial_features.get_feature_names_out(features)\n",
    "# # for i, coef in enumerate(model.coef_):\n",
    "# #     print(f\"{feature_names[i]} 的系数为: {coef}\")"
   ],
   "id": "5759faa16848e63a",
   "outputs": [],
   "execution_count": 61
  },
  {
   "metadata": {
    "ExecuteTime": {
     "end_time": "2024-09-23T10:33:42.889081Z",
     "start_time": "2024-09-23T10:31:27.067568Z"
    }
   },
   "cell_type": "code",
   "source": [
    "\"\"\"\n",
    "    IGSE\n",
    "\"\"\"\n",
    "import numpy as np\n",
    "import time\n",
    "\n",
    "start_time = time.time()\n",
    "\n",
    "# 假设 magnetic_flux_density 是一个二维数组，每行对应一组数据\n",
    "B_t = np.array(magnetic_flux_density)  # 形状 (12400, 1024)，12400 组数据，每组 1024 个采样点\n",
    "P_core_data = np.array(data['磁芯损耗'])  # 实测的磁芯损耗，假设是一维数组 (12400,)\n",
    "t = np.array([[i for i in range(1024)] for _ in range(12400)])  # 每组数据的时间采样点 (12400, 1024)\n",
    "frequencies = np.array(data['频率'])  # 频率数组 (12400,)\n",
    "\n",
    "# 定义计算每组数据总损耗的IGSE函数\n",
    "def iGSE_total_loss(k, alpha, beta, B_t_single, t_single, frequency):\n",
    "    dB_dt = np.gradient(B_t_single, t_single)  # 计算 dB/dt\n",
    "    delta_B = np.max(B_t_single) - np.min(B_t_single)  # 计算 ΔB\n",
    "    # 计算每个时间点的损耗\n",
    "    loss_per_point = k * np.abs(dB_dt) ** alpha * delta_B ** (beta - alpha)\n",
    "    # 返回总损耗（对一个周期内的损耗求和或积分）\n",
    "    total_loss = np.trapz(loss_per_point, t_single) * frequency  # 乘以频率，得到每秒的损耗\n",
    "    return total_loss\n",
    "\n",
    "# 构建全局拟合函数\n",
    "def global_fit_func(params, B_t_2d, t_2d, frequencies):\n",
    "    k, alpha, beta = params\n",
    "    total_losses = []\n",
    "    for i in range(B_t_2d.shape[0]):\n",
    "        B_t_single = B_t_2d[i, :]\n",
    "        t_single = t_2d[i, :]\n",
    "        frequency = frequencies[i]\n",
    "        total_loss = iGSE_total_loss(k, alpha, beta, B_t_single, t_single, frequency)\n",
    "        total_losses.append(total_loss)\n",
    "    return np.array(total_losses)\n",
    "\n",
    "# 使用所有数据进行全局拟合\n",
    "# 初始猜测值 [k, alpha, beta]\n",
    "initial_guess = [1e-6, 1.5, 2.5]\n",
    "\n",
    "# 定义误差函数\n",
    "def error_func(params, B_t_2d, t_2d, frequencies, P_core_data):\n",
    "    predicted_losses = global_fit_func(params, B_t_2d, t_2d, frequencies)\n",
    "    return predicted_losses - P_core_data\n",
    "\n",
    "# 使用 least_squares 进行拟合\n",
    "from scipy.optimize import least_squares\n",
    "\n",
    "result = least_squares(\n",
    "    error_func,\n",
    "    initial_guess,\n",
    "    args=(B_t, t, frequencies, P_core_data),\n",
    "    bounds=([0, 0, 0], [np.inf, np.inf, np.inf])  # 参数的物理意义要求其为正值\n",
    ")\n",
    "\n",
    "k_fit, alpha_fit, beta_fit = result.x\n",
    "print(f\"拟合的参数：k={k_fit}, alpha={alpha_fit}, beta={beta_fit}\")\n",
    "\n",
    "# 计算预测的损耗值\n",
    "P_pred_data = global_fit_func(result.x, B_t, t, frequencies)\n",
    "\n",
    "# 计算 MAPE (Mean Absolute Percentage Error)\n",
    "mape = np.mean(np.abs((P_core_data - P_pred_data) / P_core_data)) * 100\n",
    "print(f\"MAPE: {mape}%\")\n",
    "\n",
    "# 计算 MAE (Mean Absolute Error)\n",
    "mae = np.mean(np.abs(P_core_data - P_pred_data))\n",
    "print(f\"MAE: {mae}\")\n",
    "\n",
    "\n",
    "# 假设 y_true 是实际值，y_pred 是预测值\n",
    "mse = mean_squared_error(P_core_data, P_pred_data)\n",
    "print(f'MSE: {mse}')\n",
    "\n",
    "# 计算 R² (决定系数)\n",
    "ss_res = np.sum((P_core_data - P_pred_data) ** 2)\n",
    "ss_tot = np.sum((P_core_data - np.mean(P_core_data)) ** 2)\n",
    "r_squared = 1 - (ss_res / ss_tot)\n",
    "print(f\"R²: {r_squared}\")\n",
    "\n",
    "end_time = time.time()\n",
    "print(\"时间花销：\", end_time - start_time)"
   ],
   "id": "dd018185dbb89ae",
   "outputs": [
    {
     "name": "stdout",
     "output_type": "stream",
     "text": [
      "拟合的参数：k=0.1195949323988523, alpha=0.19523364871864307, beta=1.8575847837219568\n",
      "MAPE: 152.50181010802967%\n",
      "MAE: 69366.63000852197\n",
      "MSE: 14247953292.906805\n",
      "R²: 0.8993879832067819\n",
      "时间花销： 135.8157820701599\n"
     ]
    }
   ],
   "execution_count": 62
  },
  {
   "metadata": {
    "ExecuteTime": {
     "end_time": "2024-09-23T10:33:42.891503Z",
     "start_time": "2024-09-23T10:33:42.890072Z"
    }
   },
   "cell_type": "code",
   "source": "",
   "id": "cbf8e3c2d8aa6a00",
   "outputs": [],
   "execution_count": 62
  }
 ],
 "metadata": {
  "kernelspec": {
   "display_name": "Python 3",
   "language": "python",
   "name": "python3"
  },
  "language_info": {
   "codemirror_mode": {
    "name": "ipython",
    "version": 2
   },
   "file_extension": ".py",
   "mimetype": "text/x-python",
   "name": "python",
   "nbconvert_exporter": "python",
   "pygments_lexer": "ipython2",
   "version": "2.7.6"
  }
 },
 "nbformat": 4,
 "nbformat_minor": 5
}

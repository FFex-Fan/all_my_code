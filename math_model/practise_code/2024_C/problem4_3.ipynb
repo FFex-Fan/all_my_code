{
 "cells": [
  {
   "metadata": {},
   "cell_type": "markdown",
   "source": [
    "## IGSE 方程\n",
    "\n",
    "$$\n",
    "P_{\\text{core}} = \\frac{1}{T} \\int_0^T k \\left| \\frac{dB}{dt} \\right|^\\alpha \\left( \\Delta B \\right)^{\\beta - \\alpha} , dt\n",
    "$$"
   ],
   "id": "71e766a96cacb4fe"
  },
  {
   "metadata": {
    "ExecuteTime": {
     "end_time": "2024-09-24T01:18:57.208792Z",
     "start_time": "2024-09-24T01:18:56.380689Z"
    }
   },
   "cell_type": "code",
   "source": [
    "import time\n",
    "\n",
    "import pandas as pd\n",
    "import numpy as np\n",
    "\n",
    "d1 = pd.read_csv(\"data/材料1.csv\")\n",
    "d2 = pd.read_csv(\"data/材料2.csv\")\n",
    "d3 = pd.read_csv(\"data/材料3.csv\")\n",
    "d4 = pd.read_csv(\"data/材料4.csv\")\n",
    "\n",
    "data = pd.concat([d1, d2, d3, d4])\n",
    "\n",
    "pd.set_option('future.no_silent_downcasting', True)\n",
    "\n",
    "data['励磁波形'] = data['励磁波形'].replace({'正弦波': 1, '三角波': 2, '梯形波': 3})\n",
    "\n",
    "magnetic_flux_density = data.iloc[:, 4:-1].values\n",
    "# print(magnetic_flux_density.shape)\n",
    "\n",
    "lst = ['温度', '频率', \"磁芯损耗\", '励磁波形']\n",
    "for i in range(1024):\n",
    "    lst.append(i)\n",
    "# lst.append('材料')\n",
    "data.columns = lst\n",
    "\n",
    "\n",
    "filter_data = data[['温度', '频率', '励磁波形', '磁芯损耗']]\n"
   ],
   "id": "4d65113535f05ed1",
   "outputs": [],
   "execution_count": 21
  },
  {
   "metadata": {
    "ExecuteTime": {
     "end_time": "2024-09-24T01:19:06.362403Z",
     "start_time": "2024-09-24T01:18:57.212226Z"
    }
   },
   "cell_type": "code",
   "source": [
    "import numpy as np\n",
    "from scipy.optimize import curve_fit\n",
    "from sklearn.model_selection import train_test_split\n",
    "from sklearn.metrics import mean_squared_error, mean_absolute_error, r2_score\n",
    "\n",
    "# 提取相关列：频率(频率)、磁芯损耗(磁芯损耗)、以及dB/dt数据(从第5列到第1023列)\n",
    "frequencies = data['频率']\n",
    "core_loss = data['磁芯损耗']\n",
    "db_dt = data.iloc[:, 5:]  # 假设第5列及以后是 dB/dt 的数据\n",
    "\n",
    "# 根据图片中的公式定义核心损耗函数\n",
    "def core_loss_function_with_ki(db_dt, k, alpha, beta):\n",
    "    # 计算 ΔB\n",
    "    delta_b = np.max(db_dt, axis=1) - np.min(db_dt, axis=1)\n",
    "    \n",
    "    # 定义 ki 基于公式的数值积分\n",
    "    def ki_integral(alpha, beta):\n",
    "        theta = np.linspace(0, 2 * np.pi, 1000)  # 用数值方法逼近积分\n",
    "        integrand = (np.abs(np.cos(theta)) ** alpha) * (2 ** (beta - alpha))\n",
    "        return np.trapz(integrand, theta)\n",
    "\n",
    "    # 计算 ki\n",
    "    ki = k / ((2 * np.pi) ** (alpha - 1)) * ki_integral(alpha, beta)\n",
    "\n",
    "    # 计算核心损耗方程中的积分项\n",
    "    integrand = np.abs(db_dt) ** alpha\n",
    "    integral = np.trapz(integrand, axis=1)  # 在时间轴上进行数值积分\n",
    "\n",
    "    # 返回预测的磁芯损耗\n",
    "    return (ki * (delta_b ** (beta - alpha)) * integral) / db_dt.shape[1]\n",
    "\n",
    "# 初始猜测值 k, alpha, beta\n",
    "initial_guess = [1, 1, 1]\n",
    "\n",
    "# 将数据集划分为 80% 训练集和 20% 测试集\n",
    "train_db_dt, test_db_dt, train_core_loss, test_core_loss = train_test_split(db_dt, core_loss, test_size=0.2, random_state=42)\n",
    "\n",
    "# 使用训练集进行拟合，找到 k, alpha, beta\n",
    "popt_new, _ = curve_fit(lambda db_dt_values, k, alpha, beta: core_loss_function_with_ki(db_dt_values, k, alpha, beta), \n",
    "                        train_db_dt.values, train_core_loss, p0=initial_guess)\n",
    "\n",
    "# 提取优化后的参数\n",
    "k_new, alpha_new, beta_new = popt_new\n",
    "\n",
    "# 输出拟合结果\n",
    "print(f\"优化后的参数: k = {k_new}, alpha = {alpha_new}, beta = {beta_new}\")\n",
    "\n",
    "# 使用拟合得到的参数预测测试集的磁芯损耗\n",
    "predicted_test_core_loss = core_loss_function_with_ki(test_db_dt.values, k_new, alpha_new, beta_new)\n",
    "\n",
    "# 计算测试集上的评估指标\n",
    "mse = mean_squared_error(test_core_loss, predicted_test_core_loss)\n",
    "mae = mean_absolute_error(test_core_loss, predicted_test_core_loss)\n",
    "r2 = r2_score(test_core_loss, predicted_test_core_loss)\n",
    "mape = np.mean(np.abs((test_core_loss - predicted_test_core_loss) / test_core_loss)) * 100\n",
    "\n",
    "# 输出评估结果\n",
    "print(f\"MSE: {mse}\")\n",
    "print(f\"MAE: {mae}\")\n",
    "print(f\"R² Score: {r2}\")\n",
    "print(f\"MAPE: {mape}\")"
   ],
   "id": "8f36f549292253f5",
   "outputs": [
    {
     "name": "stderr",
     "output_type": "stream",
     "text": [
      "/var/folders/gy/6wf0tc3n7276h9vd9dqcpkvw0000gn/T/ipykernel_10410/3853444980.py:26: RuntimeWarning: divide by zero encountered in power\n",
      "  integrand = np.abs(db_dt) ** alpha\n",
      "/var/folders/gy/6wf0tc3n7276h9vd9dqcpkvw0000gn/T/ipykernel_10410/3853444980.py:26: RuntimeWarning: overflow encountered in power\n",
      "  integrand = np.abs(db_dt) ** alpha\n",
      "/var/folders/gy/6wf0tc3n7276h9vd9dqcpkvw0000gn/T/ipykernel_10410/3853444980.py:30: RuntimeWarning: overflow encountered in multiply\n",
      "  return (ki * (delta_b ** (beta - alpha)) * integral) / db_dt.shape[1]\n"
     ]
    },
    {
     "name": "stdout",
     "output_type": "stream",
     "text": [
      "优化后的参数: k = 12.302067501266475, alpha = 1.6875308706765046e-06, beta = -0.8500960172702441\n",
      "MSE: 171053696195.74435\n",
      "MAE: 190232.37906500648\n",
      "R² Score: -0.2714102887852454\n",
      "MAPE: 93.91905451148698\n"
     ]
    }
   ],
   "execution_count": 22
  },
  {
   "metadata": {
    "ExecuteTime": {
     "end_time": "2024-09-24T01:19:06.364770Z",
     "start_time": "2024-09-24T01:19:06.363490Z"
    }
   },
   "cell_type": "code",
   "source": "",
   "id": "d294ce93ad66fc40",
   "outputs": [],
   "execution_count": 22
  }
 ],
 "metadata": {
  "kernelspec": {
   "display_name": "Python 3",
   "language": "python",
   "name": "python3"
  },
  "language_info": {
   "codemirror_mode": {
    "name": "ipython",
    "version": 2
   },
   "file_extension": ".py",
   "mimetype": "text/x-python",
   "name": "python",
   "nbconvert_exporter": "python",
   "pygments_lexer": "ipython2",
   "version": "2.7.6"
  }
 },
 "nbformat": 4,
 "nbformat_minor": 5
}

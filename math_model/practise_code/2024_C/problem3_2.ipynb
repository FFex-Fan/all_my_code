{
 "cells": [
  {
   "cell_type": "code",
   "id": "initial_id",
   "metadata": {
    "collapsed": true,
    "ExecuteTime": {
     "end_time": "2024-09-23T12:58:17.979912Z",
     "start_time": "2024-09-23T12:58:17.976535Z"
    }
   },
   "source": [
    "\"\"\"\n",
    "    方差分析\n",
    "\"\"\"\n",
    "import numpy as np\n",
    "import pandas as pd"
   ],
   "outputs": [],
   "execution_count": 29
  },
  {
   "metadata": {
    "ExecuteTime": {
     "end_time": "2024-09-23T12:58:18.763295Z",
     "start_time": "2024-09-23T12:58:17.983588Z"
    }
   },
   "cell_type": "code",
   "source": [
    "from sklearn.preprocessing import LabelEncoder, OneHotEncoder\n",
    "import pandas as pd\n",
    "import numpy as np\n",
    "\n",
    "d1 = pd.read_csv(\"data/材料1.csv\")\n",
    "d2 = pd.read_csv(\"data/材料2.csv\")\n",
    "d3 = pd.read_csv(\"data/材料3.csv\")\n",
    "d4 = pd.read_csv(\"data/材料4.csv\")\n",
    "\n",
    "d1['磁芯材料'] = '材料1'\n",
    "d2['磁芯材料'] = '材料2'\n",
    "d3['磁芯材料'] = '材料3'\n",
    "d4['磁芯材料'] = '材料4'\n",
    "\n",
    "data = pd.concat([d1, d2, d3, d4])\n",
    "\n",
    "# data = data.drop(data.columns[-1], axis=1)  # 拼接 data 为一整个数据集\n",
    "\n",
    "\n",
    "magnetic_flux_density = data.iloc[:, 4:-1].values\n",
    "\n",
    "std_flux = np.std(magnetic_flux_density, axis=1)  # 标准差\n",
    "max_flux = np.max(magnetic_flux_density, axis=1)  # 峰值\n",
    "\n",
    "data['标准差'] = std_flux\n",
    "data['峰值'] = max_flux\n",
    "\n",
    "pd.set_option('future.no_silent_downcasting', True)\n",
    "\n",
    "data['励磁波形'] = data['励磁波形'].replace({'正弦波': 1, '三角波': 2, '梯形波': 3})\n",
    "\n",
    "\n",
    "\n",
    "# print(data.shape)\n",
    "# print(data.head())\n",
    "\n",
    "lst = ['温度', '频率', \"磁芯损耗\", '励磁波形']\n",
    "for i in range(1024):\n",
    "    lst.append(i)\n",
    "lst.append('磁芯材料')\n",
    "lst.append('标准差')\n",
    "lst.append('峰值')\n",
    "data.columns = lst\n",
    "\n",
    "\n",
    "# to = pd.DataFrame(data)\n",
    "# to.to_csv(\"~/Desktop/data.csv\", index=False)\n",
    "\n",
    "# filter_data = data[['温度', '频率', '励磁波形', '材料', '峰值', '磁芯损耗']]\n",
    "\n",
    "data_updated = data[['温度', '励磁波形', '磁芯材料', '磁芯损耗']]\n",
    "\n",
    "\n",
    "# 重命名列名以便于使用\n",
    "data_updated.columns = ['温度', '励磁波形', '磁芯材料', '磁芯损耗']\n",
    "\n",
    "\n",
    "# 初始化OneHotEncoder，使用'drop=\"first\"'避免多重共线性\n",
    "encoder = OneHotEncoder(drop=\"first\")\n",
    "material_encoded = encoder.fit_transform(data_updated[['磁芯材料']]).toarray()\n",
    "\n",
    "# 将编码后的结果转换为DataFrame并重置索引\n",
    "material_encoded_df = pd.DataFrame(material_encoded, columns=encoder.get_feature_names_out(['磁芯材料'])).reset_index(drop=True)\n",
    "\n",
    "# 原数据集重置索引以确保匹配\n",
    "data_updated = data_updated.reset_index(drop=True)\n",
    "\n",
    "# 将编码后的列与原数据框（去掉原来的'材料'列）合并\n",
    "data_encoded = pd.concat([data_updated.drop('磁芯材料', axis=1), material_encoded_df], axis=1)"
   ],
   "id": "a7365182fd7302d4",
   "outputs": [],
   "execution_count": 30
  },
  {
   "metadata": {
    "ExecuteTime": {
     "end_time": "2024-09-23T12:59:23.592330Z",
     "start_time": "2024-09-23T12:59:23.548806Z"
    }
   },
   "cell_type": "code",
   "source": [
    "import statsmodels.api as sm\n",
    "from statsmodels.formula.api import ols\n",
    "\n",
    "# 将数据中的材料列组合成一个整体因素\n",
    "data_encoded['磁芯材料'] = data_encoded[['磁芯材料_材料2', '磁芯材料_材料3', '磁芯材料_材料4']].idxmax(axis=1)\n",
    "\n",
    "# 定义ANOVA模型\n",
    "model = ols('磁芯损耗 ~ 温度 * 励磁波形 * 磁芯材料', data=data_encoded).fit()\n",
    "\n",
    "# 执行ANOVA分析\n",
    "anova_results = sm.stats.anova_lm(model, typ=2)\n",
    "\n",
    "# 提取 ANOVA 结果并进行格式化\n",
    "formatted_results = anova_results.to_string(header=True, float_format=\"{:.5e}\".format)\n",
    "\n",
    "# 打印格式化的 ANOVA 结果\n",
    "print(\"ANOVA Results:\")\n",
    "print(formatted_results)"
   ],
   "id": "29c806f6f0bb5dab",
   "outputs": [
    {
     "name": "stdout",
     "output_type": "stream",
     "text": [
      "ANOVA Results:\n",
      "                  sum_sq          df           F       PR(>F)\n",
      "励磁波形         7.68135e+13 2.00000e+00 2.92412e+02 8.21893e-125\n",
      "磁芯材料         3.57625e+13 2.00000e+00 1.36140e+02  3.27947e-59\n",
      "励磁波形:磁芯材料    7.47067e+12 4.00000e+00 1.42196e+01  1.39409e-11\n",
      "温度           8.22184e+12 1.00000e+00 6.25975e+01  2.75068e-15\n",
      "温度:励磁波形      1.19876e+12 2.00000e+00 4.56342e+00  1.04439e-02\n",
      "温度:磁芯材料      7.21134e+11 2.00000e+00 2.74520e+00  6.42747e-02\n",
      "温度:励磁波形:磁芯材料 3.24387e+11 4.00000e+00 6.17435e-01  6.50071e-01\n",
      "Residual     1.62631e+15 1.23820e+04         NaN          NaN\n"
     ]
    }
   ],
   "execution_count": 33
  },
  {
   "metadata": {
    "ExecuteTime": {
     "end_time": "2024-09-23T12:58:18.825143Z",
     "start_time": "2024-09-23T12:58:18.814442Z"
    }
   },
   "cell_type": "code",
   "source": [
    "\"\"\"\n",
    "    斯贝尔曼相关系数\n",
    "\"\"\"\n",
    "from scipy.stats import spearmanr\n",
    "\n",
    "# 替换为您的实际数据\n",
    "a_tempeture = filter_data.iloc[:, 0]\n",
    "a_wire = filter_data.iloc[:, 1]\n",
    "a_material = filter_data.iloc[:, 2]\n",
    "loss = filter_data.iloc[:, -1]\n",
    "\n",
    "# 计算斯皮尔曼相关系数\n",
    "v1, p1 = spearmanr(a_tempeture, loss)\n",
    "print(f\"温度 相关系数: {v1}\")\n",
    "\n",
    "v2, p2 = spearmanr(a_wire, loss)\n",
    "print(f\"波形 相关系数: {v2}\")\n",
    "\n",
    "v3, p3 = spearmanr(a_material, loss)\n",
    "print(f\"材料 相关系数： {v3}\")\n",
    "\n",
    "v4, p4 = spearmanr(a_tempeture * a_wire, loss)\n",
    "print(f\"温度: 波形 相关系数: {v4}\")\n",
    "\n",
    "v5, p5 = spearmanr(a_tempeture * a_material, loss)\n",
    "print(f\"温度: 材料 相关系数: {v5}\")\n",
    "\n",
    "v6, p6 = spearmanr(a_material * a_wire, loss)\n",
    "print(f\"波形: 材料 相关系数: {v6}\")\n",
    "\n",
    "v7, p7 = spearmanr(a_material * a_wire * a_tempeture, loss)\n",
    "print(f\"温度: 波形: 材料 相关系数: {v7}\")"
   ],
   "id": "1000c5ae072f29e3",
   "outputs": [],
   "execution_count": 31
  },
  {
   "metadata": {
    "ExecuteTime": {
     "end_time": "2024-09-23T12:58:18.851733Z",
     "start_time": "2024-09-23T12:58:18.841400Z"
    }
   },
   "cell_type": "code",
   "source": "",
   "id": "372f86bfe39d9b60",
   "outputs": [],
   "execution_count": 31
  },
  {
   "metadata": {
    "ExecuteTime": {
     "end_time": "2024-09-23T12:58:18.860553Z",
     "start_time": "2024-09-23T12:58:18.858116Z"
    }
   },
   "cell_type": "code",
   "source": "",
   "id": "7075e5a8944222e5",
   "outputs": [],
   "execution_count": 31
  },
  {
   "metadata": {
    "ExecuteTime": {
     "end_time": "2024-09-23T12:58:18.864809Z",
     "start_time": "2024-09-23T12:58:18.862885Z"
    }
   },
   "cell_type": "code",
   "source": "",
   "id": "5b61595d8b42b318",
   "outputs": [],
   "execution_count": 31
  },
  {
   "metadata": {
    "ExecuteTime": {
     "end_time": "2024-09-23T12:58:18.869107Z",
     "start_time": "2024-09-23T12:58:18.866640Z"
    }
   },
   "cell_type": "code",
   "source": "",
   "id": "e68addf2b012d8",
   "outputs": [],
   "execution_count": 31
  }
 ],
 "metadata": {
  "kernelspec": {
   "display_name": "Python 3",
   "language": "python",
   "name": "python3"
  },
  "language_info": {
   "codemirror_mode": {
    "name": "ipython",
    "version": 2
   },
   "file_extension": ".py",
   "mimetype": "text/x-python",
   "name": "python",
   "nbconvert_exporter": "python",
   "pygments_lexer": "ipython2",
   "version": "2.7.6"
  }
 },
 "nbformat": 4,
 "nbformat_minor": 5
}

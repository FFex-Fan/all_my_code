{
 "cells": [
  {
   "cell_type": "code",
   "metadata": {
    "ExecuteTime": {
     "end_time": "2024-09-24T15:54:20.489148Z",
     "start_time": "2024-09-24T15:54:20.267744Z"
    }
   },
   "source": [
    "from matplotlib import font_manager\n",
    "import pandas as pd\n",
    "import numpy as np\n",
    "from scipy.optimize import curve_fit\n",
    "import matplotlib.pyplot as plt\n",
    "\n",
    "font_path = '/System/Library/Fonts/Hiragino Sans GB.ttc'\n",
    "my_font = font_manager.FontProperties(fname=font_path)\n",
    "\n",
    "plt.rcParams['font.family'] = my_font.get_name()\n",
    "plt.rcParams['axes.unicode_minus'] = False  # 解决负号显示为方块的问题\n",
    "\n",
    "# 读取数据\n",
    "data = pd.read_csv('data/材料1.csv')"
   ],
   "outputs": [],
   "execution_count": 44
  },
  {
   "cell_type": "code",
   "metadata": {
    "ExecuteTime": {
     "end_time": "2024-09-24T15:54:20.494813Z",
     "start_time": "2024-09-24T15:54:20.490353Z"
    }
   },
   "source": [
    "data = data[data['励磁波形'] == '正弦波']\n",
    "print(data.shape)"
   ],
   "outputs": [
    {
     "name": "stdout",
     "output_type": "stream",
     "text": [
      "(1067, 1028)\n"
     ]
    }
   ],
   "execution_count": 45
  },
  {
   "cell_type": "code",
   "metadata": {
    "ExecuteTime": {
     "end_time": "2024-09-24T15:54:20.502121Z",
     "start_time": "2024-09-24T15:54:20.495576Z"
    }
   },
   "source": [
    "freq = data['频率，Hz']\n",
    "loss = data['磁芯损耗，w/m3']\n",
    "\n",
    "Bm_values = data.iloc[:, 4:].max(axis=1).values"
   ],
   "outputs": [],
   "execution_count": 46
  },
  {
   "cell_type": "code",
   "metadata": {
    "ExecuteTime": {
     "end_time": "2024-09-24T15:54:20.505229Z",
     "start_time": "2024-09-24T15:54:20.503312Z"
    }
   },
   "source": [
    "def predict_loss(f, Bm, k1, alpha1, beta1):\n",
    "    return k1 * (f ** alpha1) * (Bm ** beta1)"
   ],
   "outputs": [],
   "execution_count": 47
  },
  {
   "cell_type": "code",
   "metadata": {
    "ExecuteTime": {
     "end_time": "2024-09-24T15:54:20.515304Z",
     "start_time": "2024-09-24T15:54:20.505827Z"
    }
   },
   "source": [
    "initial_guess = [1e-5, 1.5, 2.5]\n",
    "# 用 curve_fit 来拟合参数，xdata 是足足一个二维数组。取出我们的 frequency 和 B_max 合并\n",
    "popt, pcov = curve_fit(\n",
    "    lambda xdata, k1, alpha1, beta1: predict_loss(xdata[0], xdata[1], k1, alpha1, beta1),\n",
    "    (freq, Bm_values),  # 这里将 frequency 和 B_max 合并为 xdata\n",
    "    loss, p0=initial_guess\n",
    ")\n",
    "k1, alpha1, beta1 = popt\n",
    "print(f'拟合结果：k1={k1}, alpha1={alpha1}, beta1={beta1}')"
   ],
   "outputs": [
    {
     "name": "stdout",
     "output_type": "stream",
     "text": [
      "拟合结果：k1=1.4997417251154614, alpha1=1.4296345737356402, beta1=2.4712537948884052\n"
     ]
    },
    {
     "name": "stderr",
     "output_type": "stream",
     "text": [
      "/var/folders/gy/6wf0tc3n7276h9vd9dqcpkvw0000gn/T/ipykernel_22229/3652110823.py:2: RuntimeWarning: overflow encountered in power\n",
      "  return k1 * (f ** alpha1) * (Bm ** beta1)\n"
     ]
    }
   ],
   "execution_count": 48
  },
  {
   "cell_type": "code",
   "metadata": {
    "ExecuteTime": {
     "end_time": "2024-09-24T15:54:20.522626Z",
     "start_time": "2024-09-24T15:54:20.515934Z"
    }
   },
   "source": "data.head()",
   "outputs": [
    {
     "data": {
      "text/plain": [
       "   温度，oC  频率，Hz    磁芯损耗，w/m3 励磁波形  0（磁通密度B，T）         1         2         3  \\\n",
       "0     25  50030  1997.955250  正弦波    0.000213  0.000389  0.000566  0.000743   \n",
       "1     25  50020  2427.749830  正弦波   -0.000551 -0.000358 -0.000165  0.000028   \n",
       "2     25  50020  3332.725760  正弦波   -0.003780 -0.003564 -0.003349 -0.003134   \n",
       "3     25  50020  4502.908007  正弦波   -0.000511 -0.000267 -0.000023  0.000222   \n",
       "4     25  50030  6063.023248  正弦波    0.000458  0.000732  0.001007  0.001281   \n",
       "\n",
       "          4         5  ...      1014      1015      1016      1017      1018  \\\n",
       "0  0.000919  0.001096  ... -0.001551 -0.001374 -0.001198 -0.001022 -0.000846   \n",
       "1  0.000221  0.000413  ... -0.002476 -0.002284 -0.002091 -0.001899 -0.001707   \n",
       "2 -0.002919 -0.002704  ... -0.005927 -0.005713 -0.005499 -0.005285 -0.005070   \n",
       "3  0.000466  0.000711  ... -0.002950 -0.002707 -0.002463 -0.002220 -0.001976   \n",
       "4  0.001555  0.001830  ... -0.002290 -0.002016 -0.001741 -0.001466 -0.001192   \n",
       "\n",
       "       1019      1020      1021      1022      1023  \n",
       "0 -0.000669 -0.000492 -0.000316 -0.000140  0.000036  \n",
       "1 -0.001515 -0.001322 -0.001129 -0.000937 -0.000744  \n",
       "2 -0.004855 -0.004640 -0.004425 -0.004210 -0.003995  \n",
       "3 -0.001732 -0.001488 -0.001244 -0.001000 -0.000756  \n",
       "4 -0.000917 -0.000642 -0.000367 -0.000092  0.000183  \n",
       "\n",
       "[5 rows x 1028 columns]"
      ],
      "text/html": [
       "<div>\n",
       "<style scoped>\n",
       "    .dataframe tbody tr th:only-of-type {\n",
       "        vertical-align: middle;\n",
       "    }\n",
       "\n",
       "    .dataframe tbody tr th {\n",
       "        vertical-align: top;\n",
       "    }\n",
       "\n",
       "    .dataframe thead th {\n",
       "        text-align: right;\n",
       "    }\n",
       "</style>\n",
       "<table border=\"1\" class=\"dataframe\">\n",
       "  <thead>\n",
       "    <tr style=\"text-align: right;\">\n",
       "      <th></th>\n",
       "      <th>温度，oC</th>\n",
       "      <th>频率，Hz</th>\n",
       "      <th>磁芯损耗，w/m3</th>\n",
       "      <th>励磁波形</th>\n",
       "      <th>0（磁通密度B，T）</th>\n",
       "      <th>1</th>\n",
       "      <th>2</th>\n",
       "      <th>3</th>\n",
       "      <th>4</th>\n",
       "      <th>5</th>\n",
       "      <th>...</th>\n",
       "      <th>1014</th>\n",
       "      <th>1015</th>\n",
       "      <th>1016</th>\n",
       "      <th>1017</th>\n",
       "      <th>1018</th>\n",
       "      <th>1019</th>\n",
       "      <th>1020</th>\n",
       "      <th>1021</th>\n",
       "      <th>1022</th>\n",
       "      <th>1023</th>\n",
       "    </tr>\n",
       "  </thead>\n",
       "  <tbody>\n",
       "    <tr>\n",
       "      <th>0</th>\n",
       "      <td>25</td>\n",
       "      <td>50030</td>\n",
       "      <td>1997.955250</td>\n",
       "      <td>正弦波</td>\n",
       "      <td>0.000213</td>\n",
       "      <td>0.000389</td>\n",
       "      <td>0.000566</td>\n",
       "      <td>0.000743</td>\n",
       "      <td>0.000919</td>\n",
       "      <td>0.001096</td>\n",
       "      <td>...</td>\n",
       "      <td>-0.001551</td>\n",
       "      <td>-0.001374</td>\n",
       "      <td>-0.001198</td>\n",
       "      <td>-0.001022</td>\n",
       "      <td>-0.000846</td>\n",
       "      <td>-0.000669</td>\n",
       "      <td>-0.000492</td>\n",
       "      <td>-0.000316</td>\n",
       "      <td>-0.000140</td>\n",
       "      <td>0.000036</td>\n",
       "    </tr>\n",
       "    <tr>\n",
       "      <th>1</th>\n",
       "      <td>25</td>\n",
       "      <td>50020</td>\n",
       "      <td>2427.749830</td>\n",
       "      <td>正弦波</td>\n",
       "      <td>-0.000551</td>\n",
       "      <td>-0.000358</td>\n",
       "      <td>-0.000165</td>\n",
       "      <td>0.000028</td>\n",
       "      <td>0.000221</td>\n",
       "      <td>0.000413</td>\n",
       "      <td>...</td>\n",
       "      <td>-0.002476</td>\n",
       "      <td>-0.002284</td>\n",
       "      <td>-0.002091</td>\n",
       "      <td>-0.001899</td>\n",
       "      <td>-0.001707</td>\n",
       "      <td>-0.001515</td>\n",
       "      <td>-0.001322</td>\n",
       "      <td>-0.001129</td>\n",
       "      <td>-0.000937</td>\n",
       "      <td>-0.000744</td>\n",
       "    </tr>\n",
       "    <tr>\n",
       "      <th>2</th>\n",
       "      <td>25</td>\n",
       "      <td>50020</td>\n",
       "      <td>3332.725760</td>\n",
       "      <td>正弦波</td>\n",
       "      <td>-0.003780</td>\n",
       "      <td>-0.003564</td>\n",
       "      <td>-0.003349</td>\n",
       "      <td>-0.003134</td>\n",
       "      <td>-0.002919</td>\n",
       "      <td>-0.002704</td>\n",
       "      <td>...</td>\n",
       "      <td>-0.005927</td>\n",
       "      <td>-0.005713</td>\n",
       "      <td>-0.005499</td>\n",
       "      <td>-0.005285</td>\n",
       "      <td>-0.005070</td>\n",
       "      <td>-0.004855</td>\n",
       "      <td>-0.004640</td>\n",
       "      <td>-0.004425</td>\n",
       "      <td>-0.004210</td>\n",
       "      <td>-0.003995</td>\n",
       "    </tr>\n",
       "    <tr>\n",
       "      <th>3</th>\n",
       "      <td>25</td>\n",
       "      <td>50020</td>\n",
       "      <td>4502.908007</td>\n",
       "      <td>正弦波</td>\n",
       "      <td>-0.000511</td>\n",
       "      <td>-0.000267</td>\n",
       "      <td>-0.000023</td>\n",
       "      <td>0.000222</td>\n",
       "      <td>0.000466</td>\n",
       "      <td>0.000711</td>\n",
       "      <td>...</td>\n",
       "      <td>-0.002950</td>\n",
       "      <td>-0.002707</td>\n",
       "      <td>-0.002463</td>\n",
       "      <td>-0.002220</td>\n",
       "      <td>-0.001976</td>\n",
       "      <td>-0.001732</td>\n",
       "      <td>-0.001488</td>\n",
       "      <td>-0.001244</td>\n",
       "      <td>-0.001000</td>\n",
       "      <td>-0.000756</td>\n",
       "    </tr>\n",
       "    <tr>\n",
       "      <th>4</th>\n",
       "      <td>25</td>\n",
       "      <td>50030</td>\n",
       "      <td>6063.023248</td>\n",
       "      <td>正弦波</td>\n",
       "      <td>0.000458</td>\n",
       "      <td>0.000732</td>\n",
       "      <td>0.001007</td>\n",
       "      <td>0.001281</td>\n",
       "      <td>0.001555</td>\n",
       "      <td>0.001830</td>\n",
       "      <td>...</td>\n",
       "      <td>-0.002290</td>\n",
       "      <td>-0.002016</td>\n",
       "      <td>-0.001741</td>\n",
       "      <td>-0.001466</td>\n",
       "      <td>-0.001192</td>\n",
       "      <td>-0.000917</td>\n",
       "      <td>-0.000642</td>\n",
       "      <td>-0.000367</td>\n",
       "      <td>-0.000092</td>\n",
       "      <td>0.000183</td>\n",
       "    </tr>\n",
       "  </tbody>\n",
       "</table>\n",
       "<p>5 rows × 1028 columns</p>\n",
       "</div>"
      ]
     },
     "execution_count": 49,
     "metadata": {},
     "output_type": "execute_result"
    }
   ],
   "execution_count": 49
  },
  {
   "cell_type": "code",
   "metadata": {
    "ExecuteTime": {
     "end_time": "2024-09-24T15:54:20.528170Z",
     "start_time": "2024-09-24T15:54:20.523392Z"
    }
   },
   "source": [
    "temperature_25 = data.loc[data['温度，oC'] == 25]\n",
    "temperature_50 = data.loc[data['温度，oC'] == 50]\n",
    "temperature_70 = data.loc[data['温度，oC'] == 70]\n",
    "temperature_90 = data.loc[data['温度，oC'] == 90]\n",
    "print(temperature_25.shape)\n",
    "print(temperature_50.shape)\n",
    "print(temperature_70.shape)\n",
    "print(temperature_90.shape)"
   ],
   "outputs": [
    {
     "name": "stdout",
     "output_type": "stream",
     "text": [
      "(271, 1028)\n",
      "(256, 1028)\n",
      "(265, 1028)\n",
      "(275, 1028)\n"
     ]
    }
   ],
   "execution_count": 50
  },
  {
   "cell_type": "code",
   "metadata": {
    "ExecuteTime": {
     "end_time": "2024-09-24T15:54:20.536163Z",
     "start_time": "2024-09-24T15:54:20.528982Z"
    }
   },
   "source": [
    "Bm_25 = temperature_25.iloc[:, 4:].max(axis=1).values\n",
    "Bm_50 = temperature_50.iloc[:, 4:].max(axis=1).values\n",
    "Bm_70 = temperature_70.iloc[:, 4:].max(axis=1).values\n",
    "Bm_90 = temperature_90.iloc[:, 4:].max(axis=1).values\n",
    "\n",
    "f_25 = temperature_25.iloc[:, 1].values\n",
    "f_50 = temperature_50.iloc[:, 1].values\n",
    "f_70 = temperature_70.iloc[:, 1].values\n",
    "f_90 = temperature_90.iloc[:, 1].values\n",
    "\n",
    "l_25 = temperature_25.iloc[:, 2].values\n",
    "l_50 = temperature_50.iloc[:, 2].values\n",
    "l_70 = temperature_70.iloc[:, 2].values\n",
    "l_90 = temperature_90.iloc[:, 2].values\n",
    "\n"
   ],
   "outputs": [],
   "execution_count": 51
  },
  {
   "cell_type": "code",
   "metadata": {
    "ExecuteTime": {
     "end_time": "2024-09-24T15:54:20.539572Z",
     "start_time": "2024-09-24T15:54:20.537030Z"
    }
   },
   "source": [
    "# mape = np.mean(np.abs((y_valid - y_pred) / y_valid)) * 100\n",
    "T_25 = predict_loss(f_25, Bm_25, k1, alpha1, beta1)\n",
    "T_50 = predict_loss(f_50, Bm_50, k1, alpha1, beta1)\n",
    "T_70 = predict_loss(f_70, Bm_70, k1, alpha1, beta1)\n",
    "T_90 = predict_loss(f_90, Bm_90, k1, alpha1, beta1)\n",
    "\n",
    "mape_25 = np.mean(np.abs((l_25 - T_25) / l_25)) * 100\n",
    "mape_50 = np.mean(np.abs((l_50 - T_50) / l_50)) * 100\n",
    "mape_70 = np.mean(np.abs((l_70 - T_70) / l_70)) * 100\n",
    "mape_90 = np.mean(np.abs((l_90 - T_90) / l_90)) * 100"
   ],
   "outputs": [],
   "execution_count": 52
  },
  {
   "metadata": {
    "ExecuteTime": {
     "end_time": "2024-09-24T15:54:20.542825Z",
     "start_time": "2024-09-24T15:54:20.541175Z"
    }
   },
   "cell_type": "code",
   "source": [
    "print(f\"温度 25 mape: {mape_25}\")\n",
    "print(f\"温度 50 mape: {mape_50}\")\n",
    "print(f\"温度 70 mape: {mape_70}\")\n",
    "print(f\"温度 90 mape: {mape_90}\")\n"
   ],
   "outputs": [
    {
     "name": "stdout",
     "output_type": "stream",
     "text": [
      "温度 25 mape: 29.765093126110926\n",
      "温度 50 mape: 10.691851800392126\n",
      "温度 70 mape: 39.24048053100665\n",
      "温度 90 mape: 61.272164953363784\n"
     ]
    }
   ],
   "execution_count": 53
  },
  {
   "cell_type": "code",
   "metadata": {
    "ExecuteTime": {
     "end_time": "2024-09-24T15:54:20.546403Z",
     "start_time": "2024-09-24T15:54:20.543454Z"
    }
   },
   "source": [
    "from sklearn.metrics import mean_squared_error\n",
    "\n",
    "mse_25 = mean_squared_error(l_25, T_25)\n",
    "mse_50 = mean_squared_error(l_50, T_50)\n",
    "mse_70 = mean_squared_error(l_70, T_70)\n",
    "mse_90 = mean_squared_error(l_90, T_90)\n"
   ],
   "outputs": [],
   "execution_count": 54
  },
  {
   "cell_type": "code",
   "metadata": {
    "ExecuteTime": {
     "end_time": "2024-09-24T15:54:20.548642Z",
     "start_time": "2024-09-24T15:54:20.547040Z"
    }
   },
   "source": [
    "print(f\"温度 25 mse: {mse_25}\")\n",
    "print(f\"温度 50 mse: {mse_50}\")\n",
    "print(f\"温度 70 mse: {mse_70}\")\n",
    "print(f\"温度 90 mse: {mse_90}\")"
   ],
   "outputs": [
    {
     "name": "stdout",
     "output_type": "stream",
     "text": [
      "温度 25 mse: 4149731982.870412\n",
      "温度 50 mse: 67732136.29861777\n",
      "温度 70 mse: 783333569.814949\n",
      "温度 90 mse: 1448905610.8714879\n"
     ]
    }
   ],
   "execution_count": 55
  },
  {
   "cell_type": "code",
   "metadata": {
    "ExecuteTime": {
     "end_time": "2024-09-24T15:54:20.550445Z",
     "start_time": "2024-09-24T15:54:20.549305Z"
    }
   },
   "source": "",
   "outputs": [],
   "execution_count": 55
  }
 ],
 "metadata": {
  "language_info": {
   "name": "python"
  },
  "kernelspec": {
   "name": "python3",
   "language": "python",
   "display_name": "Python 3 (ipykernel)"
  }
 },
 "nbformat": 4,
 "nbformat_minor": 2
}

{
 "cells": [
  {
   "cell_type": "code",
   "id": "initial_id",
   "metadata": {
    "collapsed": true,
    "ExecuteTime": {
     "end_time": "2024-09-23T09:13:34.617561Z",
     "start_time": "2024-09-23T09:13:34.612178Z"
    }
   },
   "source": [
    "\"\"\" \n",
    "    正弦波使用问题二的最优函数计算误差\n",
    "    非正弦波使用问题二的公式重新拟合参数，并计算误差\n",
    "\"\"\""
   ],
   "outputs": [
    {
     "data": {
      "text/plain": [
       "' \\n    正弦波使用问题二的最优函数计算误差\\n    非正弦波使用问题二的公式重新拟合参数，并计算误差\\n'"
      ]
     },
     "execution_count": 49,
     "metadata": {},
     "output_type": "execute_result"
    }
   ],
   "execution_count": 49
  },
  {
   "metadata": {
    "ExecuteTime": {
     "end_time": "2024-09-23T09:13:34.887688Z",
     "start_time": "2024-09-23T09:13:34.621168Z"
    }
   },
   "cell_type": "code",
   "source": [
    "import pandas as pd\n",
    "import numpy as np\n",
    "import time\n",
    "\n",
    "d1 = pd.read_csv(\"data/材料1.csv\")\n",
    "# d2 = pd.read_csv(\"data/材料2.csv\")\n",
    "# d3 = pd.read_csv(\"data/材料3.csv\")\n",
    "# d4 = pd.read_csv(\"data/材料4.csv\")\n",
    "\n",
    "d1['材料'] = 1\n",
    "# d2['材料'] = 2\n",
    "# d3['材料'] = 3\n",
    "# d4['材料'] = 4\n",
    "\n",
    "# data = pd.concat([d1, d2, d3, d4])\n",
    "data = d1\n",
    "pd.set_option('future.no_silent_downcasting', True)\n",
    "data['励磁波形'] = data['励磁波形'].replace({'正弦波': 1, '三角波': 2, '梯形波': 3})\n",
    "\n",
    "magnetic_flux_density = data.iloc[:, 4:-1].values\n",
    "\n",
    "max_flux = np.max(magnetic_flux_density, axis=1)  # 峰值\n",
    "\n",
    "data['max_flux'] = max_flux\n",
    "lst = ['温度', '频率', \"磁芯损耗\", '励磁波形']\n",
    "for i in range(1024):\n",
    "    lst.append(i)\n",
    "lst.append('材料')\n",
    "lst.append('B_max')\n",
    "data.columns = lst\n",
    "\n",
    "\n",
    "print(data.shape)\n",
    "\n",
    "\n",
    "# 筛选数据将数据分为正弦波以及其他波形\n",
    "filter_wire_sin_data = data[data['励磁波形'] == 1]\n",
    "filter_wire_sin_data = filter_wire_sin_data[['温度', '频率', 'B_max', '材料', '励磁波形', '磁芯损耗']]\n",
    "print(filter_wire_sin_data.shape)\n",
    "\n",
    "filter_wire_other_data = data[data['励磁波形'] != 1]\n",
    "filter_wire_other_data = filter_wire_other_data[['温度', '频率', 'B_max', '材料', '励磁波形', '磁芯损耗']]\n",
    "print(filter_wire_other_data.shape)\n",
    "filter_wire_sin_data.head()\n",
    "# filter_wire_other_data.head()"
   ],
   "id": "5f96b2cc06ee096b",
   "outputs": [
    {
     "name": "stdout",
     "output_type": "stream",
     "text": [
      "(3400, 1030)\n",
      "(1067, 6)\n",
      "(2333, 6)\n"
     ]
    },
    {
     "data": {
      "text/plain": [
       "   温度     频率     B_max  材料 励磁波形         磁芯损耗\n",
       "0  25  50030  0.028849   1    1  1997.955250\n",
       "1  25  50020  0.031419   1    1  2427.749830\n",
       "2  25  50020  0.035535   1    1  3332.725760\n",
       "3  25  50020  0.040015   1    1  4502.908007\n",
       "4  25  50030  0.045028   1    1  6063.023248"
      ],
      "text/html": [
       "<div>\n",
       "<style scoped>\n",
       "    .dataframe tbody tr th:only-of-type {\n",
       "        vertical-align: middle;\n",
       "    }\n",
       "\n",
       "    .dataframe tbody tr th {\n",
       "        vertical-align: top;\n",
       "    }\n",
       "\n",
       "    .dataframe thead th {\n",
       "        text-align: right;\n",
       "    }\n",
       "</style>\n",
       "<table border=\"1\" class=\"dataframe\">\n",
       "  <thead>\n",
       "    <tr style=\"text-align: right;\">\n",
       "      <th></th>\n",
       "      <th>温度</th>\n",
       "      <th>频率</th>\n",
       "      <th>B_max</th>\n",
       "      <th>材料</th>\n",
       "      <th>励磁波形</th>\n",
       "      <th>磁芯损耗</th>\n",
       "    </tr>\n",
       "  </thead>\n",
       "  <tbody>\n",
       "    <tr>\n",
       "      <th>0</th>\n",
       "      <td>25</td>\n",
       "      <td>50030</td>\n",
       "      <td>0.028849</td>\n",
       "      <td>1</td>\n",
       "      <td>1</td>\n",
       "      <td>1997.955250</td>\n",
       "    </tr>\n",
       "    <tr>\n",
       "      <th>1</th>\n",
       "      <td>25</td>\n",
       "      <td>50020</td>\n",
       "      <td>0.031419</td>\n",
       "      <td>1</td>\n",
       "      <td>1</td>\n",
       "      <td>2427.749830</td>\n",
       "    </tr>\n",
       "    <tr>\n",
       "      <th>2</th>\n",
       "      <td>25</td>\n",
       "      <td>50020</td>\n",
       "      <td>0.035535</td>\n",
       "      <td>1</td>\n",
       "      <td>1</td>\n",
       "      <td>3332.725760</td>\n",
       "    </tr>\n",
       "    <tr>\n",
       "      <th>3</th>\n",
       "      <td>25</td>\n",
       "      <td>50020</td>\n",
       "      <td>0.040015</td>\n",
       "      <td>1</td>\n",
       "      <td>1</td>\n",
       "      <td>4502.908007</td>\n",
       "    </tr>\n",
       "    <tr>\n",
       "      <th>4</th>\n",
       "      <td>25</td>\n",
       "      <td>50030</td>\n",
       "      <td>0.045028</td>\n",
       "      <td>1</td>\n",
       "      <td>1</td>\n",
       "      <td>6063.023248</td>\n",
       "    </tr>\n",
       "  </tbody>\n",
       "</table>\n",
       "</div>"
      ]
     },
     "execution_count": 50,
     "metadata": {},
     "output_type": "execute_result"
    }
   ],
   "execution_count": 50
  },
  {
   "metadata": {
    "ExecuteTime": {
     "end_time": "2024-09-23T09:13:34.890334Z",
     "start_time": "2024-09-23T09:13:34.888628Z"
    }
   },
   "cell_type": "code",
   "source": [
    "def calc_sin(f, B_max, T):\n",
    "    return 1.41 *  (f ** 1.64) * (B_max ** 2.57) * (T ** -0.56)"
   ],
   "id": "837a4bce87a8bed3",
   "outputs": [],
   "execution_count": 51
  },
  {
   "metadata": {
    "ExecuteTime": {
     "end_time": "2024-09-23T09:13:35.244879Z",
     "start_time": "2024-09-23T09:13:34.890880Z"
    }
   },
   "cell_type": "code",
   "source": [
    "from sklearn.metrics import mean_squared_error\n",
    "\n",
    "\n",
    "y_vaild = filter_wire_sin_data.iloc[:, -1]\n",
    "T = filter_wire_sin_data.iloc[:, 0]\n",
    "B_max = filter_wire_sin_data.iloc[:, 2]\n",
    "f = filter_wire_sin_data.iloc[:, 1]\n",
    "\n",
    "start_time = time.time()\n",
    "\n",
    "y_pred = calc_sin(f, B_max, T)\n",
    "\n",
    "# 计算 MAPE (Mean Absolute Percentage Error)\n",
    "mape = np.mean(np.abs((y_vaild - y_pred) / y_vaild)) * 100\n",
    "print(f\"MAPE: {mape}%\")\n",
    "\n",
    "# 计算 MAE (Mean Absolute Error)\n",
    "mae = np.mean(np.abs(y_vaild - y_pred))\n",
    "print(f\"MAE: {mae}\")\n",
    "\n",
    "# 计算 R² (决定系数)\n",
    "ss_res = np.sum((y_vaild - y_pred) ** 2)\n",
    "ss_tot = np.sum((y_vaild - np.mean(y_vaild)) ** 2)\n",
    "r_squared = 1 - (ss_res / ss_tot)\n",
    "print(f\"R²: {r_squared}\")\n",
    "\n",
    "mse = mean_squared_error(y_vaild, y_pred)\n",
    "print(f'MSE: {mse}')\n",
    "\n",
    "end_time = time.time()\n",
    "print(\"Time：\", end_time - start_time)"
   ],
   "id": "e1f49afebe380ffb",
   "outputs": [
    {
     "name": "stdout",
     "output_type": "stream",
     "text": [
      "MAPE: 14.928187751592791%\n",
      "MAE: 9952.144470779149\n",
      "R²: 0.9791561295333977\n",
      "MSE: 618430040.5677242\n",
      "Time： 0.0012919902801513672\n"
     ]
    }
   ],
   "execution_count": 52
  },
  {
   "metadata": {
    "ExecuteTime": {
     "end_time": "2024-09-23T09:13:35.247799Z",
     "start_time": "2024-09-23T09:13:35.246009Z"
    }
   },
   "cell_type": "code",
   "source": [
    "\"\"\"\n",
    "拟合函数: predict_loss6\n",
    "最佳方法: COBYLA\n",
    "最佳参数: [1.35790751 1.56139092 2.41196416 0.39924536]\n",
    "最小 MAPE: 0.30764116184488594\n",
    "\"\"\"\n",
    "def calc_other(f, B_max, T):\n",
    "    return 1.358 *  (f ** 1.561) * (B_max ** 2.412) * (T ** -0.399)"
   ],
   "id": "e6423aa25d4e63b",
   "outputs": [],
   "execution_count": 53
  },
  {
   "metadata": {
    "ExecuteTime": {
     "end_time": "2024-09-23T09:13:35.253054Z",
     "start_time": "2024-09-23T09:13:35.248366Z"
    }
   },
   "cell_type": "code",
   "source": [
    "y_vaild = filter_wire_other_data.iloc[:, -1]\n",
    "T = filter_wire_other_data.iloc[:, 0]\n",
    "B_max = filter_wire_other_data.iloc[:, 2]\n",
    "f = filter_wire_other_data.iloc[:, 1]\n",
    "\n",
    "start_time = time.time()\n",
    "\n",
    "y_pred = calc_other(f, B_max, T)\n",
    "\n",
    "end_time = time.time()\n",
    "\n",
    "\n",
    "# 计算 MAPE (Mean Absolute Percentage Error)\n",
    "\n",
    "\n",
    "mape = np.mean(np.abs((y_vaild - y_pred) / y_vaild)) * 100\n",
    "print(f\"MAPE: {mape}%\")\n",
    "\n",
    "# 计算 MAE (Mean Absolute Error)\n",
    "mae = np.mean(np.abs(y_vaild - y_pred))\n",
    "print(f\"MAE: {mae}\")\n",
    "\n",
    "# 计算 R² (决定系数)\n",
    "ss_res = np.sum((y_vaild - y_pred) ** 2)\n",
    "ss_tot = np.sum((y_vaild - np.mean(y_vaild)) ** 2)\n",
    "r_squared = 1 - (ss_res / ss_tot)\n",
    "print(f\"R²: {r_squared}\")\n",
    "\n",
    "mse = mean_squared_error(y_vaild, y_pred)\n",
    "print(f'MSE: {mse}')\n",
    "\n",
    "print(\"Time Cost：\", end_time - start_time)"
   ],
   "id": "438e77cbf031d414",
   "outputs": [
    {
     "name": "stdout",
     "output_type": "stream",
     "text": [
      "MAPE: 30.814710863250305%\n",
      "MAE: 45557.11982236878\n",
      "R²: 0.9362478704782884\n",
      "MSE: 9582447465.171894\n",
      "Time Cost： 0.0005249977111816406\n"
     ]
    }
   ],
   "execution_count": 54
  },
  {
   "metadata": {},
   "cell_type": "markdown",
   "source": "$$\\LARGE P_{非正弦波} = 1.358 \\cdot f^{1.561} \\cdot B_{max} ^ {2.412}\\cdot T^{-0.399} $$",
   "id": "d74b760ec1be4fc7"
  },
  {
   "metadata": {
    "ExecuteTime": {
     "end_time": "2024-09-23T09:13:35.254900Z",
     "start_time": "2024-09-23T09:13:35.253684Z"
    }
   },
   "cell_type": "code",
   "source": "",
   "id": "d7688ce02be5a317",
   "outputs": [],
   "execution_count": 54
  }
 ],
 "metadata": {
  "kernelspec": {
   "display_name": "Python 3",
   "language": "python",
   "name": "python3"
  },
  "language_info": {
   "codemirror_mode": {
    "name": "ipython",
    "version": 2
   },
   "file_extension": ".py",
   "mimetype": "text/x-python",
   "name": "python",
   "nbconvert_exporter": "python",
   "pygments_lexer": "ipython2",
   "version": "2.7.6"
  }
 },
 "nbformat": 4,
 "nbformat_minor": 5
}
